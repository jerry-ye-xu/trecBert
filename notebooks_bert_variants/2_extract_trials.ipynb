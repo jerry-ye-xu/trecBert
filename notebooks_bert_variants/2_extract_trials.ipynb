{
 "cells": [
  {
   "cell_type": "code",
   "execution_count": 1,
   "metadata": {},
   "outputs": [],
   "source": [
    "import os\n",
    "import glob\n",
    "import pandas as pd\n",
    "\n",
    "import datetime as dt"
   ]
  },
  {
   "cell_type": "code",
   "execution_count": 2,
   "metadata": {},
   "outputs": [],
   "source": [
    "num_years = 3\n",
    "curr_year = dt.datetime.now()\n",
    "\n",
    "year_arr = [curr_year.year - x for x in range(num_years)]\n",
    "# year_arr = [int(f\"201{x}\") for x in ]"
   ]
  },
  {
   "cell_type": "code",
   "execution_count": 52,
   "metadata": {},
   "outputs": [
    {
     "data": {
      "text/plain": [
       "'../data/pm_labels_2017/qrels-treceval-final-trials.txt'"
      ]
     },
     "execution_count": 52,
     "metadata": {},
     "output_type": "execute_result"
    }
   ],
   "source": [
    "glob.glob(path+\"/\"+qrel_trial_ndcg)[0]"
   ]
  },
  {
   "cell_type": "code",
   "execution_count": 85,
   "metadata": {},
   "outputs": [
    {
     "data": {
      "text/plain": [
       "['NCT02359825', 'NCT01744093', 'NCT02439489']"
      ]
     },
     "execution_count": 85,
     "metadata": {},
     "output_type": "execute_result"
    }
   ],
   "source": [
    "PATH = \"../data/pm_labels_*\"\n",
    "QREL_TRIAL_NDCG = \"qrels-treceval*trials*.txt\"\n",
    "\n",
    "t_ids = set()\n",
    "for folder in glob.glob(f\"{path}/{QREL_TRIAL_NDCG}\"):\n",
    "    with open(folder) as file:\n",
    "        for line in file:\n",
    "            t_id = line.split(sep=\" \")[2]\n",
    "            t_ids.add(t_id)\n",
    "            \n",
    "t_ids = list(t_ids)\n",
    "t_ids[:3]"
   ]
  },
  {
   "cell_type": "code",
   "execution_count": 16,
   "metadata": {},
   "outputs": [],
   "source": [
    "PATH = \"../data/pm_labels_2017\"\n",
    "QREL_TRIAL_NDCG = \"qrels-treceval*trials*.txt\"\n",
    "\n",
    "def extract_ids(path, file_name):\n",
    "    t_ids = set()\n",
    "    for folder in glob.glob(f\"{path}/{QREL_TRIAL_NDCG}\"):\n",
    "        with open(folder) as file:\n",
    "            for line in file:\n",
    "                t_id = line.split(sep=\" \")[2]\n",
    "                t_ids.add(t_id)\n",
    "    return list(t_ids)"
   ]
  },
  {
   "cell_type": "code",
   "execution_count": 17,
   "metadata": {},
   "outputs": [
    {
     "data": {
      "text/plain": [
       "['NCT02565641', 'NCT02044601', 'NCT02638584']"
      ]
     },
     "execution_count": 17,
     "metadata": {},
     "output_type": "execute_result"
    }
   ],
   "source": [
    "t_ids = extract_ids(PATH, QREL_TRIAL_NDCG)\n",
    "t_ids[:3]"
   ]
  },
  {
   "cell_type": "code",
   "execution_count": 20,
   "metadata": {},
   "outputs": [
    {
     "name": "stdout",
     "output_type": "stream",
     "text": [
      "7643\n"
     ]
    },
    {
     "data": {
      "text/plain": [
       "15151"
      ]
     },
     "execution_count": 20,
     "metadata": {},
     "output_type": "execute_result"
    }
   ],
   "source": [
    "print(len(t_ids))\n",
    "\n",
    "7508 + 7643"
   ]
  },
  {
   "cell_type": "code",
   "execution_count": 91,
   "metadata": {},
   "outputs": [
    {
     "name": "stdout",
     "output_type": "stream",
     "text": [
      "1\n",
      "3\n",
      "26\n"
     ]
    }
   ],
   "source": [
    "d = {\n",
    "    \"a\": 1,\n",
    "    \"c\": 3,\n",
    "    \"z\": 26\n",
    "}\n",
    "\n",
    "def test(a, c, z):\n",
    "    print(a)\n",
    "    print(c)\n",
    "    print(z)\n",
    "    \n",
    "test(**d)"
   ]
  },
  {
   "cell_type": "code",
   "execution_count": 3,
   "metadata": {},
   "outputs": [
    {
     "name": "stdout",
     "output_type": "stream",
     "text": [
      "../data/pm_labels_2017\n",
      "../data/pm_labels_2018\n"
     ]
    }
   ],
   "source": [
    "file_path = \"../data/pm_labels_*\"\n",
    "for folder in glob.glob(f\"{file_path}\"):\n",
    "    print(folder)"
   ]
  },
  {
   "cell_type": "code",
   "execution_count": 8,
   "metadata": {},
   "outputs": [
    {
     "data": {
      "text/plain": [
       "(14188, 22)"
      ]
     },
     "execution_count": 8,
     "metadata": {},
     "output_type": "execute_result"
    }
   ],
   "source": [
    "import pandas as pd\n",
    "\n",
    "df = pd.read_pickle(\"../data/trials_topics_combined_full_2018.pickle\")\n",
    "\n",
    "df.shape"
   ]
  },
  {
   "cell_type": "code",
   "execution_count": null,
   "metadata": {},
   "outputs": [],
   "source": []
  }
 ],
 "metadata": {
  "kernelspec": {
   "display_name": "Python 3",
   "language": "python",
   "name": "python3"
  },
  "language_info": {
   "codemirror_mode": {
    "name": "ipython",
    "version": 3
   },
   "file_extension": ".py",
   "mimetype": "text/x-python",
   "name": "python",
   "nbconvert_exporter": "python",
   "pygments_lexer": "ipython3",
   "version": "3.7.4"
  }
 },
 "nbformat": 4,
 "nbformat_minor": 2
}
