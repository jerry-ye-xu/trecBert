{
 "cells": [
  {
   "cell_type": "code",
   "execution_count": 24,
   "metadata": {},
   "outputs": [],
   "source": [
    "import pandas as pd\n",
    "from matplotlib import pyplot as plt\n",
    "from statistics import median"
   ]
  },
  {
   "cell_type": "code",
   "execution_count": 3,
   "metadata": {
    "scrolled": true
   },
   "outputs": [
    {
     "data": {
      "text/html": [
       "<div>\n",
       "<style scoped>\n",
       "    .dataframe tbody tr th:only-of-type {\n",
       "        vertical-align: middle;\n",
       "    }\n",
       "\n",
       "    .dataframe tbody tr th {\n",
       "        vertical-align: top;\n",
       "    }\n",
       "\n",
       "    .dataframe thead th {\n",
       "        text-align: right;\n",
       "    }\n",
       "</style>\n",
       "<table border=\"1\" class=\"dataframe\">\n",
       "  <thead>\n",
       "    <tr style=\"text-align: right;\">\n",
       "      <th></th>\n",
       "      <th>score</th>\n",
       "      <th>id</th>\n",
       "      <th>brief_summary</th>\n",
       "      <th>brief_title</th>\n",
       "      <th>minimum_age</th>\n",
       "      <th>gender</th>\n",
       "      <th>primary_outcome</th>\n",
       "      <th>detailed_description</th>\n",
       "      <th>keywords</th>\n",
       "      <th>official_title</th>\n",
       "      <th>...</th>\n",
       "      <th>condition_browse</th>\n",
       "      <th>inclusion</th>\n",
       "      <th>exclusion</th>\n",
       "      <th>topic</th>\n",
       "      <th>_</th>\n",
       "      <th>label</th>\n",
       "      <th>disease</th>\n",
       "      <th>gene</th>\n",
       "      <th>age</th>\n",
       "      <th>year</th>\n",
       "    </tr>\n",
       "  </thead>\n",
       "  <tbody>\n",
       "    <tr>\n",
       "      <td>0</td>\n",
       "      <td>1.0</td>\n",
       "      <td>NCT01774162</td>\n",
       "      <td>Endoscopic ultrasound (EUS) is a well-establis...</td>\n",
       "      <td>EUS-guided Fine Needle Biopsy With a New Core ...</td>\n",
       "      <td>6570</td>\n",
       "      <td>male</td>\n",
       "      <td>Sampling Adequacy at time of procedure The abi...</td>\n",
       "      <td>Background: Endoscopic ultrasound (EUS) is a w...</td>\n",
       "      <td>Endoscopic Ultrasound Fine needle aspiration F...</td>\n",
       "      <td>Endoscopic Ultrasound Guided Fine Needle Biops...</td>\n",
       "      <td>...</td>\n",
       "      <td>Adenocarcinoma Gastrointestinal Stromal Tumors...</td>\n",
       "      <td>- Adult patient 18 years or older - Able to re...</td>\n",
       "      <td>- No detectable lesion - lesion inaccessible t...</td>\n",
       "      <td>18</td>\n",
       "      <td>0</td>\n",
       "      <td>0</td>\n",
       "      <td>Pancreatic cancer</td>\n",
       "      <td>CDK6 Amplification</td>\n",
       "      <td>None</td>\n",
       "      <td>2017</td>\n",
       "    </tr>\n",
       "    <tr>\n",
       "      <td>1</td>\n",
       "      <td>1.0</td>\n",
       "      <td>NCT01774162</td>\n",
       "      <td>Endoscopic ultrasound (EUS) is a well-establis...</td>\n",
       "      <td>EUS-guided Fine Needle Biopsy With a New Core ...</td>\n",
       "      <td>6570</td>\n",
       "      <td>female</td>\n",
       "      <td>Sampling Adequacy at time of procedure The abi...</td>\n",
       "      <td>Background: Endoscopic ultrasound (EUS) is a w...</td>\n",
       "      <td>Endoscopic Ultrasound Fine needle aspiration F...</td>\n",
       "      <td>Endoscopic Ultrasound Guided Fine Needle Biops...</td>\n",
       "      <td>...</td>\n",
       "      <td>Adenocarcinoma Gastrointestinal Stromal Tumors...</td>\n",
       "      <td>- Adult patient 18 years or older - Able to re...</td>\n",
       "      <td>- No detectable lesion - lesion inaccessible t...</td>\n",
       "      <td>27</td>\n",
       "      <td>0</td>\n",
       "      <td>0</td>\n",
       "      <td>Pancreatic adenocarcinoma</td>\n",
       "      <td>KRAS, TP53</td>\n",
       "      <td>None</td>\n",
       "      <td>2017</td>\n",
       "    </tr>\n",
       "    <tr>\n",
       "      <td>2</td>\n",
       "      <td>1.0</td>\n",
       "      <td>NCT01774162</td>\n",
       "      <td>Endoscopic ultrasound (EUS) is a well-establis...</td>\n",
       "      <td>EUS-guided Fine Needle Biopsy With a New Core ...</td>\n",
       "      <td>6570</td>\n",
       "      <td>female</td>\n",
       "      <td>Sampling Adequacy at time of procedure The abi...</td>\n",
       "      <td>Background: Endoscopic ultrasound (EUS) is a w...</td>\n",
       "      <td>Endoscopic Ultrasound Fine needle aspiration F...</td>\n",
       "      <td>Endoscopic Ultrasound Guided Fine Needle Biops...</td>\n",
       "      <td>...</td>\n",
       "      <td>Adenocarcinoma Gastrointestinal Stromal Tumors...</td>\n",
       "      <td>- Adult patient 18 years or older - Able to re...</td>\n",
       "      <td>- No detectable lesion - lesion inaccessible t...</td>\n",
       "      <td>28</td>\n",
       "      <td>0</td>\n",
       "      <td>0</td>\n",
       "      <td>Pancreatic ductal adenocarcinoma</td>\n",
       "      <td>ERBB3</td>\n",
       "      <td>None</td>\n",
       "      <td>2017</td>\n",
       "    </tr>\n",
       "    <tr>\n",
       "      <td>3</td>\n",
       "      <td>1.0</td>\n",
       "      <td>NCT01774162</td>\n",
       "      <td>Endoscopic ultrasound (EUS) is a well-establis...</td>\n",
       "      <td>EUS-guided Fine Needle Biopsy With a New Core ...</td>\n",
       "      <td>6570</td>\n",
       "      <td>female</td>\n",
       "      <td>Sampling Adequacy at time of procedure The abi...</td>\n",
       "      <td>Background: Endoscopic ultrasound (EUS) is a w...</td>\n",
       "      <td>Endoscopic Ultrasound Fine needle aspiration F...</td>\n",
       "      <td>Endoscopic Ultrasound Guided Fine Needle Biops...</td>\n",
       "      <td>...</td>\n",
       "      <td>Adenocarcinoma Gastrointestinal Stromal Tumors...</td>\n",
       "      <td>- Adult patient 18 years or older - Able to re...</td>\n",
       "      <td>- No detectable lesion - lesion inaccessible t...</td>\n",
       "      <td>30</td>\n",
       "      <td>0</td>\n",
       "      <td>0</td>\n",
       "      <td>Pancreatic adenocarcinoma</td>\n",
       "      <td>RB1, TP53, KRAS</td>\n",
       "      <td>None</td>\n",
       "      <td>2017</td>\n",
       "    </tr>\n",
       "    <tr>\n",
       "      <td>4</td>\n",
       "      <td>1.0</td>\n",
       "      <td>NCT01226147</td>\n",
       "      <td>An open-label study to evaluate the efficacy a...</td>\n",
       "      <td>Efficacy and Safety of Tamibarotene(AM80) for ...</td>\n",
       "      <td>7300</td>\n",
       "      <td>female</td>\n",
       "      <td>Renal Function 24 weeks Urinary Protein values...</td>\n",
       "      <td>Tamibarotene is a synthetic retinoid presently...</td>\n",
       "      <td>Lupus Nephritis SLE retinoid tamibarotene</td>\n",
       "      <td></td>\n",
       "      <td>...</td>\n",
       "      <td>Nephritis Lupus Nephritis</td>\n",
       "      <td>- Steroid refractory lupus nephritis - more th...</td>\n",
       "      <td>- Pregnant or breastfeeding female patients - ...</td>\n",
       "      <td>7</td>\n",
       "      <td>0</td>\n",
       "      <td>0</td>\n",
       "      <td>Lung cancer</td>\n",
       "      <td>EGFR (L858R)</td>\n",
       "      <td>None</td>\n",
       "      <td>2017</td>\n",
       "    </tr>\n",
       "  </tbody>\n",
       "</table>\n",
       "<p>5 rows × 23 columns</p>\n",
       "</div>"
      ],
      "text/plain": [
       "   score           id                                      brief_summary  \\\n",
       "0    1.0  NCT01774162  Endoscopic ultrasound (EUS) is a well-establis...   \n",
       "1    1.0  NCT01774162  Endoscopic ultrasound (EUS) is a well-establis...   \n",
       "2    1.0  NCT01774162  Endoscopic ultrasound (EUS) is a well-establis...   \n",
       "3    1.0  NCT01774162  Endoscopic ultrasound (EUS) is a well-establis...   \n",
       "4    1.0  NCT01226147  An open-label study to evaluate the efficacy a...   \n",
       "\n",
       "                                         brief_title minimum_age  gender  \\\n",
       "0  EUS-guided Fine Needle Biopsy With a New Core ...        6570    male   \n",
       "1  EUS-guided Fine Needle Biopsy With a New Core ...        6570  female   \n",
       "2  EUS-guided Fine Needle Biopsy With a New Core ...        6570  female   \n",
       "3  EUS-guided Fine Needle Biopsy With a New Core ...        6570  female   \n",
       "4  Efficacy and Safety of Tamibarotene(AM80) for ...        7300  female   \n",
       "\n",
       "                                     primary_outcome  \\\n",
       "0  Sampling Adequacy at time of procedure The abi...   \n",
       "1  Sampling Adequacy at time of procedure The abi...   \n",
       "2  Sampling Adequacy at time of procedure The abi...   \n",
       "3  Sampling Adequacy at time of procedure The abi...   \n",
       "4  Renal Function 24 weeks Urinary Protein values...   \n",
       "\n",
       "                                detailed_description  \\\n",
       "0  Background: Endoscopic ultrasound (EUS) is a w...   \n",
       "1  Background: Endoscopic ultrasound (EUS) is a w...   \n",
       "2  Background: Endoscopic ultrasound (EUS) is a w...   \n",
       "3  Background: Endoscopic ultrasound (EUS) is a w...   \n",
       "4  Tamibarotene is a synthetic retinoid presently...   \n",
       "\n",
       "                                            keywords  \\\n",
       "0  Endoscopic Ultrasound Fine needle aspiration F...   \n",
       "1  Endoscopic Ultrasound Fine needle aspiration F...   \n",
       "2  Endoscopic Ultrasound Fine needle aspiration F...   \n",
       "3  Endoscopic Ultrasound Fine needle aspiration F...   \n",
       "4          Lupus Nephritis SLE retinoid tamibarotene   \n",
       "\n",
       "                                      official_title  ...  \\\n",
       "0  Endoscopic Ultrasound Guided Fine Needle Biops...  ...   \n",
       "1  Endoscopic Ultrasound Guided Fine Needle Biops...  ...   \n",
       "2  Endoscopic Ultrasound Guided Fine Needle Biops...  ...   \n",
       "3  Endoscopic Ultrasound Guided Fine Needle Biops...  ...   \n",
       "4                                                     ...   \n",
       "\n",
       "                                    condition_browse  \\\n",
       "0  Adenocarcinoma Gastrointestinal Stromal Tumors...   \n",
       "1  Adenocarcinoma Gastrointestinal Stromal Tumors...   \n",
       "2  Adenocarcinoma Gastrointestinal Stromal Tumors...   \n",
       "3  Adenocarcinoma Gastrointestinal Stromal Tumors...   \n",
       "4                          Nephritis Lupus Nephritis   \n",
       "\n",
       "                                           inclusion  \\\n",
       "0  - Adult patient 18 years or older - Able to re...   \n",
       "1  - Adult patient 18 years or older - Able to re...   \n",
       "2  - Adult patient 18 years or older - Able to re...   \n",
       "3  - Adult patient 18 years or older - Able to re...   \n",
       "4  - Steroid refractory lupus nephritis - more th...   \n",
       "\n",
       "                                           exclusion topic  _ label  \\\n",
       "0  - No detectable lesion - lesion inaccessible t...    18  0     0   \n",
       "1  - No detectable lesion - lesion inaccessible t...    27  0     0   \n",
       "2  - No detectable lesion - lesion inaccessible t...    28  0     0   \n",
       "3  - No detectable lesion - lesion inaccessible t...    30  0     0   \n",
       "4  - Pregnant or breastfeeding female patients - ...     7  0     0   \n",
       "\n",
       "                            disease                gene   age  year  \n",
       "0                 Pancreatic cancer  CDK6 Amplification  None  2017  \n",
       "1         Pancreatic adenocarcinoma          KRAS, TP53  None  2017  \n",
       "2  Pancreatic ductal adenocarcinoma               ERBB3  None  2017  \n",
       "3         Pancreatic adenocarcinoma     RB1, TP53, KRAS  None  2017  \n",
       "4                       Lung cancer        EGFR (L858R)  None  2017  \n",
       "\n",
       "[5 rows x 23 columns]"
      ]
     },
     "execution_count": 3,
     "metadata": {},
     "output_type": "execute_result"
    }
   ],
   "source": [
    "df = pd.read_pickle(\"../data/trials_topics_combined_all_years.pickle\")\n",
    "df.head()"
   ]
  },
  {
   "cell_type": "code",
   "execution_count": 13,
   "metadata": {},
   "outputs": [
    {
     "data": {
      "text/plain": [
       "13.407681018829441"
      ]
     },
     "execution_count": 13,
     "metadata": {},
     "output_type": "execute_result"
    }
   ],
   "source": [
    "sum(df[\"brief_title\"].apply(lambda x: len(x.split())))/df.shape[0]"
   ]
  },
  {
   "cell_type": "code",
   "execution_count": 12,
   "metadata": {},
   "outputs": [
    {
     "data": {
      "text/plain": [
       "101.57107678531453"
      ]
     },
     "execution_count": 12,
     "metadata": {},
     "output_type": "execute_result"
    }
   ],
   "source": [
    "sum(df[\"brief_summary\"].apply(lambda x: len(x.split())))/df.shape[0]"
   ]
  },
  {
   "cell_type": "code",
   "execution_count": 16,
   "metadata": {},
   "outputs": [],
   "source": [
    "brief_summary_len = df[\"brief_summary\"].apply(lambda x: len(x.split()))\n",
    "brief_title_len = df[\"brief_title\"].apply(lambda x: len(x.split()))"
   ]
  },
  {
   "cell_type": "code",
   "execution_count": 26,
   "metadata": {},
   "outputs": [
    {
     "name": "stdout",
     "output_type": "stream",
     "text": [
      "67\n",
      "13\n"
     ]
    }
   ],
   "source": [
    "print(median(brief_summary_len))\n",
    "print(median(brief_title_len))"
   ]
  },
  {
   "cell_type": "code",
   "execution_count": 20,
   "metadata": {},
   "outputs": [
    {
     "data": {
      "text/plain": [
       "(array([10181., 12948.,  6705.,  3511.,  1713.,  1147.,  1082.,   864.,\n",
       "          618.,   560.,   265.,   189.,   108.,    73.,    82.,    54.,\n",
       "           33.,    40.,    17.,    13.]),\n",
       " array([  2. ,  40.8,  79.6, 118.4, 157.2, 196. , 234.8, 273.6, 312.4,\n",
       "        351.2, 390. , 428.8, 467.6, 506.4, 545.2, 584. , 622.8, 661.6,\n",
       "        700.4, 739.2, 778. ]),\n",
       " <a list of 20 Patch objects>)"
      ]
     },
     "execution_count": 20,
     "metadata": {},
     "output_type": "execute_result"
    },
    {
     "data": {
      "image/png": "[encoded data removed]",
      "text/plain": [
       "<Figure size 432x288 with 1 Axes>"
      ]
     },
     "metadata": {
      "needs_background": "light"
     },
     "output_type": "display_data"
    }
   ],
   "source": [
    "plt.hist(brief_summary_len, bins=20)"
   ]
  },
  {
   "cell_type": "code",
   "execution_count": 21,
   "metadata": {},
   "outputs": [
    {
     "data": {
      "text/plain": [
       "(array([1.990e+02, 1.500e+03, 6.190e+03, 5.464e+03, 6.076e+03, 8.641e+03,\n",
       "        4.286e+03, 3.755e+03, 1.413e+03, 7.960e+02, 9.070e+02, 3.350e+02,\n",
       "        2.860e+02, 1.400e+02, 8.300e+01, 7.100e+01, 3.300e+01, 2.000e+01,\n",
       "        5.000e+00, 3.000e+00]),\n",
       " array([ 1. ,  3.4,  5.8,  8.2, 10.6, 13. , 15.4, 17.8, 20.2, 22.6, 25. ,\n",
       "        27.4, 29.8, 32.2, 34.6, 37. , 39.4, 41.8, 44.2, 46.6, 49. ]),\n",
       " <a list of 20 Patch objects>)"
      ]
     },
     "execution_count": 21,
     "metadata": {},
     "output_type": "execute_result"
    },
    {
     "data": {
      "image/png": "[encoded data removed]",
      "text/plain": [
       "<Figure size 432x288 with 1 Axes>"
      ]
     },
     "metadata": {
      "needs_background": "light"
     },
     "output_type": "display_data"
    }
   ],
   "source": [
    "plt.hist(brief_title_len, bins=20)"
   ]
  },
  {
   "cell_type": "code",
   "execution_count": 9,
   "metadata": {},
   "outputs": [
    {
     "data": {
      "text/plain": [
       "228"
      ]
     },
     "execution_count": 9,
     "metadata": {},
     "output_type": "execute_result"
    }
   ],
   "source": [
    "len(df[\"brief_summary\"].iloc[0].split())"
   ]
  },
  {
   "cell_type": "code",
   "execution_count": 6,
   "metadata": {},
   "outputs": [
    {
     "data": {
      "text/plain": [
       "50"
      ]
     },
     "execution_count": 6,
     "metadata": {},
     "output_type": "execute_result"
    }
   ],
   "source": [
    "df[\"topic\"].nunique()"
   ]
  },
  {
   "cell_type": "code",
   "execution_count": 10,
   "metadata": {},
   "outputs": [
    {
     "data": {
      "text/plain": [
       "0    2017_18\n",
       "1    2017_27\n",
       "2    2017_28\n",
       "3    2017_30\n",
       "4     2017_7\n",
       "Name: topic_year, dtype: object"
      ]
     },
     "execution_count": 10,
     "metadata": {},
     "output_type": "execute_result"
    }
   ],
   "source": [
    "# This will be the new ID for \n",
    "df[\"topic_year\"] = df[\"year\"].astype(str) + \"_\" + df[\"topic\"].astype(str)\n",
    "df[\"topic_year\"].iloc[:5]"
   ]
  },
  {
   "cell_type": "code",
   "execution_count": 30,
   "metadata": {},
   "outputs": [],
   "source": [
    "arr = [\"a\", \"b\", \"c\", \"a\"]\n",
    "arr2 = [\"a\", 1, 2, 3]\n",
    "arr3 = [1, 2, 3, \"b\"]\n",
    "arr4 = [1, 2, 3, 4]"
   ]
  },
  {
   "cell_type": "code",
   "execution_count": 31,
   "metadata": {},
   "outputs": [
    {
     "data": {
      "text/plain": [
       "True"
      ]
     },
     "execution_count": 31,
     "metadata": {},
     "output_type": "execute_result"
    }
   ],
   "source": [
    "any([0 if type(x) is int else 1 for x in arr])"
   ]
  },
  {
   "cell_type": "code",
   "execution_count": 32,
   "metadata": {},
   "outputs": [
    {
     "data": {
      "text/plain": [
       "True"
      ]
     },
     "execution_count": 32,
     "metadata": {},
     "output_type": "execute_result"
    }
   ],
   "source": [
    "any([0 if type(x) is int else 1 for x in arr2])"
   ]
  },
  {
   "cell_type": "code",
   "execution_count": 33,
   "metadata": {},
   "outputs": [
    {
     "data": {
      "text/plain": [
       "True"
      ]
     },
     "execution_count": 33,
     "metadata": {},
     "output_type": "execute_result"
    }
   ],
   "source": [
    "any([0 if type(x) is int else 1 for x in arr3])"
   ]
  },
  {
   "cell_type": "code",
   "execution_count": 34,
   "metadata": {},
   "outputs": [
    {
     "data": {
      "text/plain": [
       "False"
      ]
     },
     "execution_count": 34,
     "metadata": {},
     "output_type": "execute_result"
    }
   ],
   "source": [
    "any([0 if type(x) is int else 1 for x in arr4])"
   ]
  },
  {
   "cell_type": "code",
   "execution_count": 35,
   "metadata": {},
   "outputs": [
    {
     "data": {
      "text/plain": [
       "False"
      ]
     },
     "execution_count": 35,
     "metadata": {},
     "output_type": "execute_result"
    }
   ],
   "source": [
    "type(3.61) is int"
   ]
  },
  {
   "cell_type": "code",
   "execution_count": 37,
   "metadata": {},
   "outputs": [
    {
     "data": {
      "text/plain": [
       "True"
      ]
     },
     "execution_count": 37,
     "metadata": {},
     "output_type": "execute_result"
    }
   ],
   "source": [
    "type(3.0) is float"
   ]
  },
  {
   "cell_type": "code",
   "execution_count": null,
   "metadata": {},
   "outputs": [],
   "source": [
    "    707 \n",
    "    708                 self.topics_eval_arr = topics_batch\n",
    "--> 709                 self.doc_id_eval_arr = doc_ids_batch\n",
    "    710             else:\n",
    "    711                 self.preds_arr = np.append(\n",
    "\n",
    "UnboundLocalError: local variable 'doc_ids_batch' referenced before assignment"
   ]
  },
  {
   "cell_type": "code",
   "execution_count": 32,
   "metadata": {},
   "outputs": [],
   "source": [
    "x = ['Liposarcoma', 'MDM2 Amplification', '26-year-old male', 'None']\n",
    "\n",
    "x_arr = [x] * 3\n",
    "x_arr.append([\"a\", \"b\", \"c\", \"d\", \"e\"])\n",
    "x_arr = pd.Series(x_arr)"
   ]
  },
  {
   "cell_type": "code",
   "execution_count": 33,
   "metadata": {},
   "outputs": [
    {
     "data": {
      "text/plain": [
       "[['Liposarcoma', 'MDM2 Amplification', '26-year-old male', 'None'],\n",
       " ['Liposarcoma', 'MDM2 Amplification', '26-year-old male', 'None'],\n",
       " ['Liposarcoma', 'MDM2 Amplification', '26-year-old male', 'None'],\n",
       " ['a', 'b', 'c', 'd', 'e']]"
      ]
     },
     "execution_count": 33,
     "metadata": {},
     "output_type": "execute_result"
    }
   ],
   "source": [
    "x_arr.tolist()"
   ]
  },
  {
   "cell_type": "code",
   "execution_count": null,
   "metadata": {},
   "outputs": [],
   "source": []
  }
 ],
 "metadata": {
  "kernelspec": {
   "display_name": "Python 3",
   "language": "python",
   "name": "python3"
  },
  "language_info": {
   "codemirror_mode": {
    "name": "ipython",
    "version": 3
   },
   "file_extension": ".py",
   "mimetype": "text/x-python",
   "name": "python",
   "nbconvert_exporter": "python",
   "pygments_lexer": "ipython3",
   "version": "3.7.4"
  }
 },
 "nbformat": 4,
 "nbformat_minor": 2
}
