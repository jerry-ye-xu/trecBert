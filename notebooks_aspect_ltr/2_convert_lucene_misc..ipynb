{
 "cells": [
  {
   "cell_type": "code",
   "execution_count": 1,
   "metadata": {},
   "outputs": [],
   "source": [
    "import pandas as pd"
   ]
  },
  {
   "cell_type": "code",
   "execution_count": 3,
   "metadata": {},
   "outputs": [
    {
     "data": {
      "text/plain": [
       "<pysolr.Results at 0x1201144d0>"
      ]
     },
     "execution_count": 3,
     "metadata": {},
     "output_type": "execute_result"
    }
   ],
   "source": [
    "df = pd.read_pickle(\"../../A2AFull/check_results.pickle\")\n",
    "df"
   ]
  },
  {
   "cell_type": "code",
   "execution_count": 21,
   "metadata": {},
   "outputs": [
    {
     "data": {
      "text/plain": [
       "6.5274744"
      ]
     },
     "execution_count": 21,
     "metadata": {},
     "output_type": "execute_result"
    }
   ],
   "source": [
    "df.docs[0][\"score\"]"
   ]
  },
  {
   "cell_type": "code",
   "execution_count": 22,
   "metadata": {},
   "outputs": [
    {
     "data": {
      "text/plain": [
       "<pysolr.Results at 0x120114490>"
      ]
     },
     "execution_count": 22,
     "metadata": {},
     "output_type": "execute_result"
    }
   ],
   "source": [
    "df = pd.read_pickle(\"../local_parser/check_results.pickle\")\n",
    "df"
   ]
  },
  {
   "cell_type": "code",
   "execution_count": 23,
   "metadata": {},
   "outputs": [
    {
     "data": {
      "text/plain": [
       "[{'id': 'NCT02210559',\n",
       "  'brief_title': 'A Phase 1/2 Trial of Gemcitabine Plus Nab-paclitaxel With or Without FG-3019 as Neoadjuvant Chemotherapy in Locally Advanced, Unresectable Pancreatic Cancer',\n",
       "  'official_title': 'A Randomized, Open Label, Phase 1/2 Trial of Gemcitabine Plus Nab-paclitaxel With or Without FG-3019 as Neoadjuvant Chemotherapy in Locally Advanced, Unresectable Pancreatic Cancer',\n",
       "  'brief_summary': 'This is a Phase 1/2 trial to evaluate the safety, tolerability and efficacy of FG-3019 administered with gemcitabine and Nab-paclitaxel in the treatment of locally advanced, unresectable pancreatic cancer.',\n",
       "  'detailed_description': 'Each subject may receive up to six cycles of treatment (each treatment cycle is 28 days). Tumor tissue will be collected during resection for biomarker analysis. EUS core tumor biopsies will be collected pre/post treatment at participating centers. Tumor response will be evaluated by changes in CT scan, FDG-PET, CA 19-9, and NCCN® guidelines. Subjects who complete 6 cycles of treatment will be evaluated for surgical exploration for possible R0 resection. Subjects who undergo surgery will be evaluated for surgical complications for an additional 30 days following discharge from surgery. All subjects will be followed for safety for 28 days following their last dose with study drug. Blood samples will be collected periodically for the assessment of pharmacokinetics (PK) and pharmacodynamics (PD). All subjects, including those who discontinue from the study during the treatment period without evidence of disease progression, will be followed for at least 28 weeks post End of Treatment for disease progression, survival, and follow-on treatment for pancreatic cancer.',\n",
       "  'intervention_type': 'Drug Drug Drug',\n",
       "  'intervention_name': 'FG-3019 Gemcitabine Nab-paclitaxel',\n",
       "  'inclusion': 'Key Inclusion Criteria: - Male or non-pregnant, non-lactating female - Histologically proven diagnosis of pancreatic ductal adenocarcinoma (PDAC) - Radiographic and pathologic staging consistent with pancreatic cancer, locally advanced, unresectable (per NCCN criteria) - Laparoscopic confirmation that PDAC is locally advanced. Biliary stents are permitted - Measurable disease as defined by RECIST 1.1 - ECOG performance status 0 or 1 - Adequate liver, bone marrow and renal function - Agree to use contraception per protocol - Less than Grade 2 pre-existing peripheral neuropathy Key',\n",
       "  'exclusion': '- Prior chemotherapy or radiation for pancreatic cancer - Solid tumor contact with SMA > 180° - Previous (within the past 5 years) or concurrent malignancy diagnosis (expect non-melanoma skin cancer or in situ carcinoma of the cervix) - Major surgery within 4 weeks prior to Day 1 study - History of allergy or hypersensitivity to human, humanized or chimeric monoclonal antibodies - Exposure to another investigational drug within 42 days of first dosing visit, or 5 half-lives of the study product (whichever is longer) - Uncontrolled intercurrent illness - Any medical condition that, in the opinion of the Investigator, may pose a safety risk to a subject in this trial, may confound the assessment of safety and efficacy, or may interfere with study participation. - Current abuse of alcohol or drugs',\n",
       "  'keywords': 'locally advanced pancreatic cancer unresectable pancreatic cancer',\n",
       "  'intervention_browse': 'Paclitaxel Gemcitabine Albumin-Bound Paclitaxel Antibodies, Monoclonal',\n",
       "  'condition_browse': 'Pancreatic Neoplasms',\n",
       "  'primary_outcome': 'Safety Through 28 days following the last dose of study treatment Asses the treatment-emergent adverse events (TEAEs), serious treatment-emergent adverse events (TESAEs), clinical laboratory tests, and discontinuation of treatment for treatment-related TEAEs. Surgical safety with respect to complication rates post resection 30 days following discharge after surgery The proportion of subjects who become eligible for surgery After completion of 24 weeks of treatment with study drug The proportion of subjects in whom R0 resection is achieved After completion of 24 weeks of treatment with study drug The proportion of subjects in R0 or R1 resection is achieved After completion of 24 weeks of treatment with study drug Tumor response rates After completion of 24 weeks of treatment with study drug Measured by: complete response (CR) or partial response (PR) per Response Evaluation Criteria in Solid Tumors (RECIST 1.1), at least 50% reduction from baseline in serum CA19-9, or at least 30% reduction from baseline in SUV[max] assessed by FDG-PET Median overall survival and 1-year survival rate At least 28 weeks following completion of 24 weeks of treatment (52 weeks) Median progression free survival and 1-year progression free rate At least 28 weeks following completion of 24 weeks of treatment (52 weeks)',\n",
       "  'gender': 'All',\n",
       "  'minimum_age': 6570,\n",
       "  'score': 5.448689}]"
      ]
     },
     "execution_count": 23,
     "metadata": {},
     "output_type": "execute_result"
    }
   ],
   "source": [
    "df.docs"
   ]
  },
  {
   "cell_type": "code",
   "execution_count": null,
   "metadata": {},
   "outputs": [],
   "source": []
  }
 ],
 "metadata": {
  "kernelspec": {
   "display_name": "local-venv",
   "language": "python",
   "name": "local-venv"
  },
  "language_info": {
   "codemirror_mode": {
    "name": "ipython",
    "version": 3
   },
   "file_extension": ".py",
   "mimetype": "text/x-python",
   "name": "python",
   "nbconvert_exporter": "python",
   "pygments_lexer": "ipython3",
   "version": "3.7.4"
  }
 },
 "nbformat": 4,
 "nbformat_minor": 2
}
