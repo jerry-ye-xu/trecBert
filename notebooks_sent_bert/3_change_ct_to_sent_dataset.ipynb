{
 "cells": [
  {
   "cell_type": "code",
   "execution_count": 1,
   "metadata": {},
   "outputs": [],
   "source": [
    "import json\n",
    "import pandas as pd\n",
    "import requests\n",
    "\n",
    "from bs4 import BeautifulSoup\n",
    "from random import randint, random, seed"
   ]
  },
  {
   "cell_type": "code",
   "execution_count": 3,
   "metadata": {},
   "outputs": [],
   "source": [
    "#### I need to make this work with the reformatting of CT data to sentence level.\n",
    "\n",
    "# df_bert = build_dataset_for_bert(\n",
    "#     result_sets, test_year, top_n, topics_set,\n",
    "#     subset_columns, return_fields,\n",
    "#     whoosh_idx_path, trial_topics_path,\n",
    "#     df_missing_save_path, fields_to_keep\n",
    "# )\n",
    "\n",
    "# print(df_bert.columns)\n",
    "# print(\"df_bert.head()\")\n",
    "# print(df_bert.head())\n",
    "# print(df_bert[\"disease\"].isna().value_counts())\n",
    "# print(df_bert[\"gene\"].isna().value_counts())\n",
    "\n",
    "# # PROCESS INTO BERT INPUT SEQ\n",
    "# # if test:\n",
    "#     # df_bert.drop(\"id_y\", inplace=True, axis=1)\n",
    "#     # df_bert = df_bert.rename(columns={\"id_x\": \"id\"})\n",
    "\n",
    "# df_bert = process_validation_data_raw(df_bert, global_var)\n",
    "# print(\"df_bert.head() after process_validation_data_raw\")\n",
    "# print(df_bert.head())\n",
    "# print(df_bert[\"disease\"].isna().value_counts())\n",
    "# print(df_bert[\"gene\"].isna().value_counts())"
   ]
  },
  {
   "cell_type": "code",
   "execution_count": 1,
   "metadata": {},
   "outputs": [
    {
     "name": "stderr",
     "output_type": "stream",
     "text": [
      "Using TensorFlow backend.\n"
     ]
    },
    {
     "ename": "ModuleNotFoundError",
     "evalue": "No module named 'bert_seq_sent'",
     "output_type": "error",
     "traceback": [
      "\u001b[0;31m---------------------------------------------------------------------------\u001b[0m",
      "\u001b[0;31mModuleNotFoundError\u001b[0m                       Traceback (most recent call last)",
      "\u001b[0;32m<ipython-input-1-a6dc0d490902>\u001b[0m in \u001b[0;36m<module>\u001b[0;34m\u001b[0m\n\u001b[0;32m----> 1\u001b[0;31m \u001b[0;32mimport\u001b[0m \u001b[0mBertSeqSentFinetune\u001b[0m\u001b[0;34m\u001b[0m\u001b[0;34m\u001b[0m\u001b[0m\n\u001b[0m",
      "\u001b[0;32m~/Documents/trec_t2/bert_seq_sent/BertSeqSentFinetune.py\u001b[0m in \u001b[0;36m<module>\u001b[0;34m\u001b[0m\n\u001b[1;32m     30\u001b[0m \u001b[0;32mfrom\u001b[0m \u001b[0mtransformers\u001b[0m \u001b[0;32mimport\u001b[0m \u001b[0mAdamW\u001b[0m\u001b[0;34m,\u001b[0m \u001b[0mget_linear_schedule_with_warmup\u001b[0m\u001b[0;34m\u001b[0m\u001b[0;34m\u001b[0m\u001b[0m\n\u001b[1;32m     31\u001b[0m \u001b[0;34m\u001b[0m\u001b[0m\n\u001b[0;32m---> 32\u001b[0;31m \u001b[0;32mfrom\u001b[0m \u001b[0mbert_seq_sent\u001b[0m\u001b[0;34m.\u001b[0m\u001b[0mcustomDatasetGenerator\u001b[0m \u001b[0;32mimport\u001b[0m \u001b[0mBioASQDatasetGenerator\u001b[0m\u001b[0;34m,\u001b[0m \u001b[0mclinicalDatasetGenerator\u001b[0m\u001b[0;34m,\u001b[0m \u001b[0mid_collate\u001b[0m\u001b[0;34m\u001b[0m\u001b[0;34m\u001b[0m\u001b[0m\n\u001b[0m\u001b[1;32m     33\u001b[0m \u001b[0;32mfrom\u001b[0m \u001b[0mbert_seq_sent\u001b[0m\u001b[0;34m.\u001b[0m\u001b[0mevalFunc\u001b[0m \u001b[0;32mimport\u001b[0m \u001b[0mnum_correctly_classified\u001b[0m\u001b[0;34m,\u001b[0m \u001b[0mcalc_roc\u001b[0m\u001b[0;34m\u001b[0m\u001b[0;34m\u001b[0m\u001b[0m\n\u001b[1;32m     34\u001b[0m \u001b[0;34m\u001b[0m\u001b[0m\n",
      "\u001b[0;31mModuleNotFoundError\u001b[0m: No module named 'bert_seq_sent'"
     ]
    }
   ],
   "source": [
    "import BertSeqSentFinetune"
   ]
  },
  {
   "cell_type": "code",
   "execution_count": 142,
   "metadata": {},
   "outputs": [
    {
     "name": "stdout",
     "output_type": "stream",
     "text": [
      "(100, 9)\n"
     ]
    },
    {
     "data": {
      "text/html": [
       "<div>\n",
       "<style scoped>\n",
       "    .dataframe tbody tr th:only-of-type {\n",
       "        vertical-align: middle;\n",
       "    }\n",
       "\n",
       "    .dataframe tbody tr th {\n",
       "        vertical-align: top;\n",
       "    }\n",
       "\n",
       "    .dataframe thead th {\n",
       "        text-align: right;\n",
       "    }\n",
       "</style>\n",
       "<table border=\"1\" class=\"dataframe\">\n",
       "  <thead>\n",
       "    <tr style=\"text-align: right;\">\n",
       "      <th></th>\n",
       "      <th>topic</th>\n",
       "      <th>id</th>\n",
       "      <th>id_topic</th>\n",
       "      <th>brief_summary</th>\n",
       "      <th>brief_title</th>\n",
       "      <th>disease</th>\n",
       "      <th>gene</th>\n",
       "      <th>brief_t_and_s</th>\n",
       "      <th>d_and_g</th>\n",
       "    </tr>\n",
       "  </thead>\n",
       "  <tbody>\n",
       "    <tr>\n",
       "      <td>0</td>\n",
       "      <td>9</td>\n",
       "      <td>NCT01874665</td>\n",
       "      <td>NCT01874665_9</td>\n",
       "      <td>The purpose of this study is to evaluate the e...</td>\n",
       "      <td>A Phase 2 Trial of Ponatinib in Patients With ...</td>\n",
       "      <td>Gastrointestinal stromal tumor</td>\n",
       "      <td>KIT Exon 9 (A502_Y503dup)</td>\n",
       "      <td>A Phase 2 Trial of Ponatinib in Patients With ...</td>\n",
       "      <td>Gastrointestinal stromal tumor, KIT Exon 9 (A5...</td>\n",
       "    </tr>\n",
       "    <tr>\n",
       "      <td>1</td>\n",
       "      <td>9</td>\n",
       "      <td>NCT01110668</td>\n",
       "      <td>NCT01110668_9</td>\n",
       "      <td>This study will assess time-to-disease progres...</td>\n",
       "      <td>Evaluation of Nilotinib In Patients With Advan...</td>\n",
       "      <td>Gastrointestinal stromal tumor</td>\n",
       "      <td>KIT Exon 9 (A502_Y503dup)</td>\n",
       "      <td>Evaluation of Nilotinib In Patients With Advan...</td>\n",
       "      <td>Gastrointestinal stromal tumor, KIT Exon 9 (A5...</td>\n",
       "    </tr>\n",
       "    <tr>\n",
       "      <td>2</td>\n",
       "      <td>9</td>\n",
       "      <td>NCT02576080</td>\n",
       "      <td>NCT02576080_9</td>\n",
       "      <td>Following the ACOSOG Z9001trial, imatinib rece...</td>\n",
       "      <td>Efficacy of Imatinib in Patients With Intermed...</td>\n",
       "      <td>Gastrointestinal stromal tumor</td>\n",
       "      <td>KIT Exon 9 (A502_Y503dup)</td>\n",
       "      <td>Efficacy of Imatinib in Patients With Intermed...</td>\n",
       "      <td>Gastrointestinal stromal tumor, KIT Exon 9 (A5...</td>\n",
       "    </tr>\n",
       "    <tr>\n",
       "      <td>3</td>\n",
       "      <td>9</td>\n",
       "      <td>NCT02336724</td>\n",
       "      <td>NCT02336724_9</td>\n",
       "      <td>Famitinib is a tyrosin-inhibitor agent targeti...</td>\n",
       "      <td>A Study of Famitinib in Patients With Gastroin...</td>\n",
       "      <td>Gastrointestinal stromal tumor</td>\n",
       "      <td>KIT Exon 9 (A502_Y503dup)</td>\n",
       "      <td>A Study of Famitinib in Patients With Gastroin...</td>\n",
       "      <td>Gastrointestinal stromal tumor, KIT Exon 9 (A5...</td>\n",
       "    </tr>\n",
       "    <tr>\n",
       "      <td>4</td>\n",
       "      <td>9</td>\n",
       "      <td>NCT02776878</td>\n",
       "      <td>NCT02776878_9</td>\n",
       "      <td>The purpose of this study is to determine whet...</td>\n",
       "      <td>A Clinical Trial Evaluating the Efficacy and S...</td>\n",
       "      <td>Gastrointestinal stromal tumor</td>\n",
       "      <td>KIT Exon 9 (A502_Y503dup)</td>\n",
       "      <td>A Clinical Trial Evaluating the Efficacy and S...</td>\n",
       "      <td>Gastrointestinal stromal tumor, KIT Exon 9 (A5...</td>\n",
       "    </tr>\n",
       "  </tbody>\n",
       "</table>\n",
       "</div>"
      ],
      "text/plain": [
       "  topic           id       id_topic  \\\n",
       "0     9  NCT01874665  NCT01874665_9   \n",
       "1     9  NCT01110668  NCT01110668_9   \n",
       "2     9  NCT02576080  NCT02576080_9   \n",
       "3     9  NCT02336724  NCT02336724_9   \n",
       "4     9  NCT02776878  NCT02776878_9   \n",
       "\n",
       "                                       brief_summary  \\\n",
       "0  The purpose of this study is to evaluate the e...   \n",
       "1  This study will assess time-to-disease progres...   \n",
       "2  Following the ACOSOG Z9001trial, imatinib rece...   \n",
       "3  Famitinib is a tyrosin-inhibitor agent targeti...   \n",
       "4  The purpose of this study is to determine whet...   \n",
       "\n",
       "                                         brief_title  \\\n",
       "0  A Phase 2 Trial of Ponatinib in Patients With ...   \n",
       "1  Evaluation of Nilotinib In Patients With Advan...   \n",
       "2  Efficacy of Imatinib in Patients With Intermed...   \n",
       "3  A Study of Famitinib in Patients With Gastroin...   \n",
       "4  A Clinical Trial Evaluating the Efficacy and S...   \n",
       "\n",
       "                          disease                       gene  \\\n",
       "0  Gastrointestinal stromal tumor  KIT Exon 9 (A502_Y503dup)   \n",
       "1  Gastrointestinal stromal tumor  KIT Exon 9 (A502_Y503dup)   \n",
       "2  Gastrointestinal stromal tumor  KIT Exon 9 (A502_Y503dup)   \n",
       "3  Gastrointestinal stromal tumor  KIT Exon 9 (A502_Y503dup)   \n",
       "4  Gastrointestinal stromal tumor  KIT Exon 9 (A502_Y503dup)   \n",
       "\n",
       "                                       brief_t_and_s  \\\n",
       "0  A Phase 2 Trial of Ponatinib in Patients With ...   \n",
       "1  Evaluation of Nilotinib In Patients With Advan...   \n",
       "2  Efficacy of Imatinib in Patients With Intermed...   \n",
       "3  A Study of Famitinib in Patients With Gastroin...   \n",
       "4  A Clinical Trial Evaluating the Efficacy and S...   \n",
       "\n",
       "                                             d_and_g  \n",
       "0  Gastrointestinal stromal tumor, KIT Exon 9 (A5...  \n",
       "1  Gastrointestinal stromal tumor, KIT Exon 9 (A5...  \n",
       "2  Gastrointestinal stromal tumor, KIT Exon 9 (A5...  \n",
       "3  Gastrointestinal stromal tumor, KIT Exon 9 (A5...  \n",
       "4  Gastrointestinal stromal tumor, KIT Exon 9 (A5...  "
      ]
     },
     "execution_count": 142,
     "metadata": {},
     "output_type": "execute_result"
    }
   ],
   "source": [
    "import pandas as pd\n",
    "\n",
    "df = pd.read_pickle(\"../data/df_bert_tmp.pickle\")\n",
    "print(df.shape)\n",
    "df.head()"
   ]
  },
  {
   "cell_type": "code",
   "execution_count": 143,
   "metadata": {},
   "outputs": [
    {
     "data": {
      "text/plain": [
       "array(['9', '10'], dtype=object)"
      ]
     },
     "execution_count": 143,
     "metadata": {},
     "output_type": "execute_result"
    }
   ],
   "source": [
    "df.topic.unique()"
   ]
  },
  {
   "cell_type": "code",
   "execution_count": 78,
   "metadata": {},
   "outputs": [
    {
     "name": "stdout",
     "output_type": "stream",
     "text": [
      "A Phase 2 Trial of Ponatinib in Patients With Metastatic and/or Unresectable Gastrointestinal Stromal Tumor. The purpose of this study is to evaluate the efficacy and safety of ponatinib in patients with metastatic and/or unresectable gastrointestinal stromal tumor (GIST) following failure of prior tyrosine kinase inhibitor (TKI) therapy.\n",
      "['A Phase 2 Trial of Ponatinib in Patients With Metastatic and/or Unresectable Gastrointestinal Stromal Tumor', 'The purpose of this study is to evaluate the efficacy and safety of ponatinib in patients with metastatic and/or unresectable gastrointestinal stromal tumor (GIST) following failure of prior tyrosine kinase inhibitor (TKI) therapy.']\n"
     ]
    }
   ],
   "source": [
    "for i in range(1):\n",
    "    print(df.brief_t_and_s[i])\n",
    "    print(df.brief_t_and_s[i].split(\". \"))"
   ]
  },
  {
   "cell_type": "code",
   "execution_count": 82,
   "metadata": {},
   "outputs": [],
   "source": [
    "df_subset = df[(df[\"id\"] == \"NCT01874665\") | (df[\"id\"] == \"NCT01110668\")]\n",
    "# df_subset[\"brief_t_and_s\"] = df_subset[\"brief_t_and_s\"].apply(lambda x: x.split(\". \"))\n",
    "# df_subset"
   ]
  },
  {
   "cell_type": "code",
   "execution_count": 89,
   "metadata": {},
   "outputs": [
    {
     "name": "stderr",
     "output_type": "stream",
     "text": [
      "/Users/xu081/opt/anaconda3/lib/python3.7/site-packages/ipykernel_launcher.py:1: SettingWithCopyWarning: \n",
      "A value is trying to be set on a copy of a slice from a DataFrame.\n",
      "Try using .loc[row_indexer,col_indexer] = value instead\n",
      "\n",
      "See the caveats in the documentation: http://pandas.pydata.org/pandas-docs/stable/user_guide/indexing.html#returning-a-view-versus-a-copy\n",
      "  \"\"\"Entry point for launching an IPython kernel.\n"
     ]
    },
    {
     "data": {
      "text/html": [
       "<div>\n",
       "<style scoped>\n",
       "    .dataframe tbody tr th:only-of-type {\n",
       "        vertical-align: middle;\n",
       "    }\n",
       "\n",
       "    .dataframe tbody tr th {\n",
       "        vertical-align: top;\n",
       "    }\n",
       "\n",
       "    .dataframe thead th {\n",
       "        text-align: right;\n",
       "    }\n",
       "</style>\n",
       "<table border=\"1\" class=\"dataframe\">\n",
       "  <thead>\n",
       "    <tr style=\"text-align: right;\">\n",
       "      <th></th>\n",
       "      <th>topic</th>\n",
       "      <th>id</th>\n",
       "      <th>id_topic</th>\n",
       "      <th>brief_summary</th>\n",
       "      <th>brief_title</th>\n",
       "      <th>disease</th>\n",
       "      <th>gene</th>\n",
       "      <th>brief_t_and_s</th>\n",
       "      <th>d_and_g</th>\n",
       "      <th>all_seq</th>\n",
       "    </tr>\n",
       "  </thead>\n",
       "  <tbody>\n",
       "    <tr>\n",
       "      <td>0</td>\n",
       "      <td>9</td>\n",
       "      <td>NCT01874665</td>\n",
       "      <td>NCT01874665_9</td>\n",
       "      <td>The purpose of this study is to evaluate the e...</td>\n",
       "      <td>A Phase 2 Trial of Ponatinib in Patients With ...</td>\n",
       "      <td>Gastrointestinal stromal tumor</td>\n",
       "      <td>KIT Exon 9 (A502_Y503dup)</td>\n",
       "      <td>A Phase 2 Trial of Ponatinib in Patients With ...</td>\n",
       "      <td>Gastrointestinal stromal tumor, KIT Exon 9 (A5...</td>\n",
       "      <td>A Phase 2 Trial of Ponatinib in Patients With ...</td>\n",
       "    </tr>\n",
       "    <tr>\n",
       "      <td>1</td>\n",
       "      <td>9</td>\n",
       "      <td>NCT01110668</td>\n",
       "      <td>NCT01110668_9</td>\n",
       "      <td>This study will assess time-to-disease progres...</td>\n",
       "      <td>Evaluation of Nilotinib In Patients With Advan...</td>\n",
       "      <td>Gastrointestinal stromal tumor</td>\n",
       "      <td>KIT Exon 9 (A502_Y503dup)</td>\n",
       "      <td>Evaluation of Nilotinib In Patients With Advan...</td>\n",
       "      <td>Gastrointestinal stromal tumor, KIT Exon 9 (A5...</td>\n",
       "      <td>Evaluation of Nilotinib In Patients With Advan...</td>\n",
       "    </tr>\n",
       "  </tbody>\n",
       "</table>\n",
       "</div>"
      ],
      "text/plain": [
       "  topic           id       id_topic  \\\n",
       "0     9  NCT01874665  NCT01874665_9   \n",
       "1     9  NCT01110668  NCT01110668_9   \n",
       "\n",
       "                                       brief_summary  \\\n",
       "0  The purpose of this study is to evaluate the e...   \n",
       "1  This study will assess time-to-disease progres...   \n",
       "\n",
       "                                         brief_title  \\\n",
       "0  A Phase 2 Trial of Ponatinib in Patients With ...   \n",
       "1  Evaluation of Nilotinib In Patients With Advan...   \n",
       "\n",
       "                          disease                       gene  \\\n",
       "0  Gastrointestinal stromal tumor  KIT Exon 9 (A502_Y503dup)   \n",
       "1  Gastrointestinal stromal tumor  KIT Exon 9 (A502_Y503dup)   \n",
       "\n",
       "                                       brief_t_and_s  \\\n",
       "0  A Phase 2 Trial of Ponatinib in Patients With ...   \n",
       "1  Evaluation of Nilotinib In Patients With Advan...   \n",
       "\n",
       "                                             d_and_g  \\\n",
       "0  Gastrointestinal stromal tumor, KIT Exon 9 (A5...   \n",
       "1  Gastrointestinal stromal tumor, KIT Exon 9 (A5...   \n",
       "\n",
       "                                             all_seq  \n",
       "0  A Phase 2 Trial of Ponatinib in Patients With ...  \n",
       "1  Evaluation of Nilotinib In Patients With Advan...  "
      ]
     },
     "execution_count": 89,
     "metadata": {},
     "output_type": "execute_result"
    }
   ],
   "source": [
    "df_subset[\"all_seq\"] = df_subset[\"brief_t_and_s\"] + \" \" + df_subset[\"d_and_g\"]\n",
    "df_subset"
   ]
  },
  {
   "cell_type": "code",
   "execution_count": 90,
   "metadata": {},
   "outputs": [
    {
     "data": {
      "text/plain": [
       "'Evaluation of Nilotinib In Patients With Advanced Gastrointestinal Stromal Tumor (GIST). This study will assess time-to-disease progression in patients with advanced gastrointestinal stromal tumor (GIST) previously treated with imatinib ≥600 mg. Gastrointestinal stromal tumor, KIT Exon 9 (A502_Y503dup)'"
      ]
     },
     "execution_count": 90,
     "metadata": {},
     "output_type": "execute_result"
    }
   ],
   "source": [
    "df_subset[\"all_seq\"][1]"
   ]
  },
  {
   "cell_type": "code",
   "execution_count": 91,
   "metadata": {},
   "outputs": [
    {
     "name": "stderr",
     "output_type": "stream",
     "text": [
      "/Users/xu081/opt/anaconda3/lib/python3.7/site-packages/ipykernel_launcher.py:1: SettingWithCopyWarning: \n",
      "A value is trying to be set on a copy of a slice from a DataFrame.\n",
      "Try using .loc[row_indexer,col_indexer] = value instead\n",
      "\n",
      "See the caveats in the documentation: http://pandas.pydata.org/pandas-docs/stable/user_guide/indexing.html#returning-a-view-versus-a-copy\n",
      "  \"\"\"Entry point for launching an IPython kernel.\n"
     ]
    }
   ],
   "source": [
    "df_subset[\"all_seq\"] = df_subset[\"all_seq\"].apply(lambda x: x.split(\". \"))"
   ]
  },
  {
   "cell_type": "code",
   "execution_count": 92,
   "metadata": {},
   "outputs": [
    {
     "data": {
      "text/html": [
       "<div>\n",
       "<style scoped>\n",
       "    .dataframe tbody tr th:only-of-type {\n",
       "        vertical-align: middle;\n",
       "    }\n",
       "\n",
       "    .dataframe tbody tr th {\n",
       "        vertical-align: top;\n",
       "    }\n",
       "\n",
       "    .dataframe thead th {\n",
       "        text-align: right;\n",
       "    }\n",
       "</style>\n",
       "<table border=\"1\" class=\"dataframe\">\n",
       "  <thead>\n",
       "    <tr style=\"text-align: right;\">\n",
       "      <th></th>\n",
       "      <th>index</th>\n",
       "      <th>topic</th>\n",
       "      <th>id</th>\n",
       "      <th>id_topic</th>\n",
       "      <th>brief_summary</th>\n",
       "      <th>brief_title</th>\n",
       "      <th>disease</th>\n",
       "      <th>gene</th>\n",
       "      <th>brief_t_and_s</th>\n",
       "      <th>d_and_g</th>\n",
       "      <th>all_seq</th>\n",
       "    </tr>\n",
       "  </thead>\n",
       "  <tbody>\n",
       "    <tr>\n",
       "      <td>0</td>\n",
       "      <td>0</td>\n",
       "      <td>9</td>\n",
       "      <td>NCT01874665</td>\n",
       "      <td>NCT01874665_9</td>\n",
       "      <td>The purpose of this study is to evaluate the e...</td>\n",
       "      <td>A Phase 2 Trial of Ponatinib in Patients With ...</td>\n",
       "      <td>Gastrointestinal stromal tumor</td>\n",
       "      <td>KIT Exon 9 (A502_Y503dup)</td>\n",
       "      <td>A Phase 2 Trial of Ponatinib in Patients With ...</td>\n",
       "      <td>Gastrointestinal stromal tumor, KIT Exon 9 (A5...</td>\n",
       "      <td>A Phase 2 Trial of Ponatinib in Patients With ...</td>\n",
       "    </tr>\n",
       "    <tr>\n",
       "      <td>1</td>\n",
       "      <td>0</td>\n",
       "      <td>9</td>\n",
       "      <td>NCT01874665</td>\n",
       "      <td>NCT01874665_9</td>\n",
       "      <td>The purpose of this study is to evaluate the e...</td>\n",
       "      <td>A Phase 2 Trial of Ponatinib in Patients With ...</td>\n",
       "      <td>Gastrointestinal stromal tumor</td>\n",
       "      <td>KIT Exon 9 (A502_Y503dup)</td>\n",
       "      <td>A Phase 2 Trial of Ponatinib in Patients With ...</td>\n",
       "      <td>Gastrointestinal stromal tumor, KIT Exon 9 (A5...</td>\n",
       "      <td>The purpose of this study is to evaluate the e...</td>\n",
       "    </tr>\n",
       "    <tr>\n",
       "      <td>2</td>\n",
       "      <td>0</td>\n",
       "      <td>9</td>\n",
       "      <td>NCT01874665</td>\n",
       "      <td>NCT01874665_9</td>\n",
       "      <td>The purpose of this study is to evaluate the e...</td>\n",
       "      <td>A Phase 2 Trial of Ponatinib in Patients With ...</td>\n",
       "      <td>Gastrointestinal stromal tumor</td>\n",
       "      <td>KIT Exon 9 (A502_Y503dup)</td>\n",
       "      <td>A Phase 2 Trial of Ponatinib in Patients With ...</td>\n",
       "      <td>Gastrointestinal stromal tumor, KIT Exon 9 (A5...</td>\n",
       "      <td>Gastrointestinal stromal tumor, KIT Exon 9 (A5...</td>\n",
       "    </tr>\n",
       "    <tr>\n",
       "      <td>3</td>\n",
       "      <td>1</td>\n",
       "      <td>9</td>\n",
       "      <td>NCT01110668</td>\n",
       "      <td>NCT01110668_9</td>\n",
       "      <td>This study will assess time-to-disease progres...</td>\n",
       "      <td>Evaluation of Nilotinib In Patients With Advan...</td>\n",
       "      <td>Gastrointestinal stromal tumor</td>\n",
       "      <td>KIT Exon 9 (A502_Y503dup)</td>\n",
       "      <td>Evaluation of Nilotinib In Patients With Advan...</td>\n",
       "      <td>Gastrointestinal stromal tumor, KIT Exon 9 (A5...</td>\n",
       "      <td>Evaluation of Nilotinib In Patients With Advan...</td>\n",
       "    </tr>\n",
       "    <tr>\n",
       "      <td>4</td>\n",
       "      <td>1</td>\n",
       "      <td>9</td>\n",
       "      <td>NCT01110668</td>\n",
       "      <td>NCT01110668_9</td>\n",
       "      <td>This study will assess time-to-disease progres...</td>\n",
       "      <td>Evaluation of Nilotinib In Patients With Advan...</td>\n",
       "      <td>Gastrointestinal stromal tumor</td>\n",
       "      <td>KIT Exon 9 (A502_Y503dup)</td>\n",
       "      <td>Evaluation of Nilotinib In Patients With Advan...</td>\n",
       "      <td>Gastrointestinal stromal tumor, KIT Exon 9 (A5...</td>\n",
       "      <td>This study will assess time-to-disease progres...</td>\n",
       "    </tr>\n",
       "    <tr>\n",
       "      <td>5</td>\n",
       "      <td>1</td>\n",
       "      <td>9</td>\n",
       "      <td>NCT01110668</td>\n",
       "      <td>NCT01110668_9</td>\n",
       "      <td>This study will assess time-to-disease progres...</td>\n",
       "      <td>Evaluation of Nilotinib In Patients With Advan...</td>\n",
       "      <td>Gastrointestinal stromal tumor</td>\n",
       "      <td>KIT Exon 9 (A502_Y503dup)</td>\n",
       "      <td>Evaluation of Nilotinib In Patients With Advan...</td>\n",
       "      <td>Gastrointestinal stromal tumor, KIT Exon 9 (A5...</td>\n",
       "      <td>Gastrointestinal stromal tumor, KIT Exon 9 (A5...</td>\n",
       "    </tr>\n",
       "  </tbody>\n",
       "</table>\n",
       "</div>"
      ],
      "text/plain": [
       "   index topic           id       id_topic  \\\n",
       "0      0     9  NCT01874665  NCT01874665_9   \n",
       "1      0     9  NCT01874665  NCT01874665_9   \n",
       "2      0     9  NCT01874665  NCT01874665_9   \n",
       "3      1     9  NCT01110668  NCT01110668_9   \n",
       "4      1     9  NCT01110668  NCT01110668_9   \n",
       "5      1     9  NCT01110668  NCT01110668_9   \n",
       "\n",
       "                                       brief_summary  \\\n",
       "0  The purpose of this study is to evaluate the e...   \n",
       "1  The purpose of this study is to evaluate the e...   \n",
       "2  The purpose of this study is to evaluate the e...   \n",
       "3  This study will assess time-to-disease progres...   \n",
       "4  This study will assess time-to-disease progres...   \n",
       "5  This study will assess time-to-disease progres...   \n",
       "\n",
       "                                         brief_title  \\\n",
       "0  A Phase 2 Trial of Ponatinib in Patients With ...   \n",
       "1  A Phase 2 Trial of Ponatinib in Patients With ...   \n",
       "2  A Phase 2 Trial of Ponatinib in Patients With ...   \n",
       "3  Evaluation of Nilotinib In Patients With Advan...   \n",
       "4  Evaluation of Nilotinib In Patients With Advan...   \n",
       "5  Evaluation of Nilotinib In Patients With Advan...   \n",
       "\n",
       "                          disease                       gene  \\\n",
       "0  Gastrointestinal stromal tumor  KIT Exon 9 (A502_Y503dup)   \n",
       "1  Gastrointestinal stromal tumor  KIT Exon 9 (A502_Y503dup)   \n",
       "2  Gastrointestinal stromal tumor  KIT Exon 9 (A502_Y503dup)   \n",
       "3  Gastrointestinal stromal tumor  KIT Exon 9 (A502_Y503dup)   \n",
       "4  Gastrointestinal stromal tumor  KIT Exon 9 (A502_Y503dup)   \n",
       "5  Gastrointestinal stromal tumor  KIT Exon 9 (A502_Y503dup)   \n",
       "\n",
       "                                       brief_t_and_s  \\\n",
       "0  A Phase 2 Trial of Ponatinib in Patients With ...   \n",
       "1  A Phase 2 Trial of Ponatinib in Patients With ...   \n",
       "2  A Phase 2 Trial of Ponatinib in Patients With ...   \n",
       "3  Evaluation of Nilotinib In Patients With Advan...   \n",
       "4  Evaluation of Nilotinib In Patients With Advan...   \n",
       "5  Evaluation of Nilotinib In Patients With Advan...   \n",
       "\n",
       "                                             d_and_g  \\\n",
       "0  Gastrointestinal stromal tumor, KIT Exon 9 (A5...   \n",
       "1  Gastrointestinal stromal tumor, KIT Exon 9 (A5...   \n",
       "2  Gastrointestinal stromal tumor, KIT Exon 9 (A5...   \n",
       "3  Gastrointestinal stromal tumor, KIT Exon 9 (A5...   \n",
       "4  Gastrointestinal stromal tumor, KIT Exon 9 (A5...   \n",
       "5  Gastrointestinal stromal tumor, KIT Exon 9 (A5...   \n",
       "\n",
       "                                             all_seq  \n",
       "0  A Phase 2 Trial of Ponatinib in Patients With ...  \n",
       "1  The purpose of this study is to evaluate the e...  \n",
       "2  Gastrointestinal stromal tumor, KIT Exon 9 (A5...  \n",
       "3  Evaluation of Nilotinib In Patients With Advan...  \n",
       "4  This study will assess time-to-disease progres...  \n",
       "5  Gastrointestinal stromal tumor, KIT Exon 9 (A5...  "
      ]
     },
     "execution_count": 92,
     "metadata": {},
     "output_type": "execute_result"
    }
   ],
   "source": [
    "df_subset = df_subset.explode(\"all_seq\").reset_index()\n",
    "df_subset"
   ]
  },
  {
   "cell_type": "code",
   "execution_count": 38,
   "metadata": {},
   "outputs": [
    {
     "data": {
      "text/plain": [
       "'The purpose of this study is to evaluate the efficacy and safety of ponatinib in patients with metastatic and/or unresectable gastrointestinal stromal tumor (GIST) following failure of prior tyrosine kinase inhibitor (TKI) therapy.'"
      ]
     },
     "execution_count": 38,
     "metadata": {},
     "output_type": "execute_result"
    }
   ],
   "source": [
    "df_subset.brief_t_and_s[1]"
   ]
  },
  {
   "cell_type": "code",
   "execution_count": null,
   "metadata": {},
   "outputs": [],
   "source": []
  },
  {
   "cell_type": "code",
   "execution_count": null,
   "metadata": {},
   "outputs": [],
   "source": []
  },
  {
   "cell_type": "code",
   "execution_count": null,
   "metadata": {},
   "outputs": [],
   "source": []
  },
  {
   "cell_type": "markdown",
   "metadata": {},
   "source": [
    "## Evaluation Results Wrangling"
   ]
  },
  {
   "cell_type": "code",
   "execution_count": 15,
   "metadata": {},
   "outputs": [
    {
     "data": {
      "text/html": [
       "<div>\n",
       "<style scoped>\n",
       "    .dataframe tbody tr th:only-of-type {\n",
       "        vertical-align: middle;\n",
       "    }\n",
       "\n",
       "    .dataframe tbody tr th {\n",
       "        vertical-align: top;\n",
       "    }\n",
       "\n",
       "    .dataframe thead th {\n",
       "        text-align: right;\n",
       "    }\n",
       "</style>\n",
       "<table border=\"1\" class=\"dataframe\">\n",
       "  <thead>\n",
       "    <tr style=\"text-align: right;\">\n",
       "      <th></th>\n",
       "      <th>topic</th>\n",
       "      <th>id</th>\n",
       "      <th>id_topic</th>\n",
       "      <th>brief_summary</th>\n",
       "      <th>brief_title</th>\n",
       "      <th>disease</th>\n",
       "      <th>gene</th>\n",
       "      <th>brief_t_and_s</th>\n",
       "      <th>d_and_g</th>\n",
       "    </tr>\n",
       "  </thead>\n",
       "  <tbody>\n",
       "    <tr>\n",
       "      <td>0</td>\n",
       "      <td>9</td>\n",
       "      <td>NCT01320085</td>\n",
       "      <td>NCT01320085_9</td>\n",
       "      <td>The study will assess the safety and efficacy ...</td>\n",
       "      <td>A Phase II Study of Single Agent MEK162 in Pat...</td>\n",
       "      <td>melanoma</td>\n",
       "      <td>NRAS (Q61L)</td>\n",
       "      <td>A Phase II Study of Single Agent MEK162 in Pat...</td>\n",
       "      <td>melanoma, NRAS (Q61L)</td>\n",
       "    </tr>\n",
       "    <tr>\n",
       "      <td>1</td>\n",
       "      <td>9</td>\n",
       "      <td>NCT02645149</td>\n",
       "      <td>NCT02645149_9</td>\n",
       "      <td>This is a patient oriented translational resea...</td>\n",
       "      <td>Molecular Profiling and Matched Targeted Thera...</td>\n",
       "      <td>melanoma</td>\n",
       "      <td>NRAS (Q61L)</td>\n",
       "      <td>Molecular Profiling and Matched Targeted Thera...</td>\n",
       "      <td>melanoma, NRAS (Q61L)</td>\n",
       "    </tr>\n",
       "    <tr>\n",
       "      <td>2</td>\n",
       "      <td>9</td>\n",
       "      <td>NCT02357732</td>\n",
       "      <td>NCT02357732_9</td>\n",
       "      <td>This study evaluates nivolumab in combination ...</td>\n",
       "      <td>Study of the Anti-PD-1 Antibody Nivolumab in C...</td>\n",
       "      <td>melanoma</td>\n",
       "      <td>NRAS (Q61L)</td>\n",
       "      <td>Study of the Anti-PD-1 Antibody Nivolumab in C...</td>\n",
       "      <td>melanoma, NRAS (Q61L)</td>\n",
       "    </tr>\n",
       "    <tr>\n",
       "      <td>3</td>\n",
       "      <td>9</td>\n",
       "      <td>NCT01941927</td>\n",
       "      <td>NCT01941927_9</td>\n",
       "      <td>This is a multicenter phase II clinical study ...</td>\n",
       "      <td>Trametinib With GSK2141795 in BRAF Wild-type M...</td>\n",
       "      <td>melanoma</td>\n",
       "      <td>NRAS (Q61L)</td>\n",
       "      <td>Trametinib With GSK2141795 in BRAF Wild-type M...</td>\n",
       "      <td>melanoma, NRAS (Q61L)</td>\n",
       "    </tr>\n",
       "    <tr>\n",
       "      <td>4</td>\n",
       "      <td>9</td>\n",
       "      <td>NCT02138292</td>\n",
       "      <td>NCT02138292_9</td>\n",
       "      <td>The study is a prospective, single-arm, one-si...</td>\n",
       "      <td>A Phase 1B Clinical Trial of Trametinib Plus D...</td>\n",
       "      <td>melanoma</td>\n",
       "      <td>NRAS (Q61L)</td>\n",
       "      <td>A Phase 1B Clinical Trial of Trametinib Plus D...</td>\n",
       "      <td>melanoma, NRAS (Q61L)</td>\n",
       "    </tr>\n",
       "  </tbody>\n",
       "</table>\n",
       "</div>"
      ],
      "text/plain": [
       "  topic           id       id_topic  \\\n",
       "0     9  NCT01320085  NCT01320085_9   \n",
       "1     9  NCT02645149  NCT02645149_9   \n",
       "2     9  NCT02357732  NCT02357732_9   \n",
       "3     9  NCT01941927  NCT01941927_9   \n",
       "4     9  NCT02138292  NCT02138292_9   \n",
       "\n",
       "                                       brief_summary  \\\n",
       "0  The study will assess the safety and efficacy ...   \n",
       "1  This is a patient oriented translational resea...   \n",
       "2  This study evaluates nivolumab in combination ...   \n",
       "3  This is a multicenter phase II clinical study ...   \n",
       "4  The study is a prospective, single-arm, one-si...   \n",
       "\n",
       "                                         brief_title   disease         gene  \\\n",
       "0  A Phase II Study of Single Agent MEK162 in Pat...  melanoma  NRAS (Q61L)   \n",
       "1  Molecular Profiling and Matched Targeted Thera...  melanoma  NRAS (Q61L)   \n",
       "2  Study of the Anti-PD-1 Antibody Nivolumab in C...  melanoma  NRAS (Q61L)   \n",
       "3  Trametinib With GSK2141795 in BRAF Wild-type M...  melanoma  NRAS (Q61L)   \n",
       "4  A Phase 1B Clinical Trial of Trametinib Plus D...  melanoma  NRAS (Q61L)   \n",
       "\n",
       "                                       brief_t_and_s                d_and_g  \n",
       "0  A Phase II Study of Single Agent MEK162 in Pat...  melanoma, NRAS (Q61L)  \n",
       "1  Molecular Profiling and Matched Targeted Thera...  melanoma, NRAS (Q61L)  \n",
       "2  Study of the Anti-PD-1 Antibody Nivolumab in C...  melanoma, NRAS (Q61L)  \n",
       "3  Trametinib With GSK2141795 in BRAF Wild-type M...  melanoma, NRAS (Q61L)  \n",
       "4  A Phase 1B Clinical Trial of Trametinib Plus D...  melanoma, NRAS (Q61L)  "
      ]
     },
     "execution_count": 15,
     "metadata": {},
     "output_type": "execute_result"
    }
   ],
   "source": [
    "tmp = pd.read_pickle(\"../data/df_bert_tmp.pickle\")\n",
    "tmp.head()"
   ]
  },
  {
   "cell_type": "code",
   "execution_count": 18,
   "metadata": {},
   "outputs": [
    {
     "data": {
      "text/plain": [
       "(500, 9)"
      ]
     },
     "execution_count": 18,
     "metadata": {},
     "output_type": "execute_result"
    }
   ],
   "source": [
    "tmp.shape"
   ]
  },
  {
   "cell_type": "code",
   "execution_count": 17,
   "metadata": {},
   "outputs": [
    {
     "data": {
      "text/plain": [
       "array(['9', '10', '11', '12', '13', '14', '15', '16', '17', '18'],\n",
       "      dtype=object)"
      ]
     },
     "execution_count": 17,
     "metadata": {},
     "output_type": "execute_result"
    }
   ],
   "source": [
    "tmp.topic.unique()"
   ]
  },
  {
   "cell_type": "code",
   "execution_count": 6,
   "metadata": {},
   "outputs": [],
   "source": [
    "import pickle\n",
    "\n",
    "with open(\"../debug_data/reg_pred_arr.pickle\", \"rb\") as f:\n",
    "    pred_arr = pickle.load(f)\n",
    "\n",
    "with open(\"../debug_data/topics_id.pickle\", \"rb\") as f:\n",
    "    topics_id = pickle.load(f)\n",
    "\n",
    "with open(\"../debug_data/doc_id.pickle\", \"rb\") as f:\n",
    "    doc_id = pickle.load(f)"
   ]
  },
  {
   "cell_type": "code",
   "execution_count": 7,
   "metadata": {},
   "outputs": [
    {
     "data": {
      "text/plain": [
       "array([[ 0.35273436, -0.8788711 ],\n",
       "       [ 0.11356196,  0.6403564 ],\n",
       "       [ 0.20966041,  0.22552927],\n",
       "       [-0.03923824,  0.57529896],\n",
       "       [ 0.11194965,  0.721154  ]], dtype=float32)"
      ]
     },
     "execution_count": 7,
     "metadata": {},
     "output_type": "execute_result"
    }
   ],
   "source": [
    "pred_arr[:5]"
   ]
  },
  {
   "cell_type": "code",
   "execution_count": 12,
   "metadata": {},
   "outputs": [
    {
     "data": {
      "text/plain": [
       "array([ 9, 10, 10, 10,  9, 10,  9, 10,  9, 10,  9,  9, 10, 10, 10,  9,  9,\n",
       "        9,  9, 10, 10,  9, 10, 10, 10, 10,  9,  9,  9, 10, 10, 10, 10,  9,\n",
       "        9,  9, 10,  9,  9, 10, 10,  9,  9,  9, 10, 10,  9,  9,  9,  9,  9,\n",
       "        9,  9,  9,  9, 10, 10,  9,  9, 10, 10,  9,  9,  9, 10,  9,  9, 10,\n",
       "        9, 10, 10,  9, 10,  9,  9,  9, 10, 10,  9, 10,  9, 10,  9,  9, 10,\n",
       "       10,  9,  9, 10,  9, 10,  9, 10,  9,  9,  9, 10,  9, 10, 10,  9,  9,\n",
       "        9,  9, 10, 10,  9,  9, 10, 10, 10,  9,  9,  9, 10, 10,  9,  9,  9,\n",
       "       10,  9,  9,  9,  9,  9, 10,  9, 10, 10,  9,  9, 10, 10,  9, 10,  9,\n",
       "        9,  9, 10,  9, 10, 10, 10,  9, 10,  9, 10, 10, 10,  9,  9,  9,  9,\n",
       "       10, 10,  9,  9,  9, 10,  9,  9, 10, 10, 10,  9,  9, 10,  9,  9, 10,\n",
       "       10, 10, 10,  9,  9,  9, 10,  9, 10,  9, 10, 10, 10, 10,  9,  9,  9,\n",
       "        9, 10, 10, 10, 10,  9,  9, 10,  9,  9, 10,  9, 10, 10,  9,  9,  9,\n",
       "        9, 10,  9, 10,  9, 10,  9,  9, 10,  9, 10, 10, 10, 10,  9, 10, 10,\n",
       "        9,  9,  9,  9, 10, 10, 10, 10,  9, 10,  9,  9, 10,  9, 10, 10,  9,\n",
       "        9, 10,  9, 10, 10,  9, 10, 10,  9,  9,  9,  9,  9,  9,  9, 10,  9,\n",
       "       10,  9,  9, 10,  9,  9, 10, 10, 10, 10, 10,  9, 10,  9,  9,  9,  9,\n",
       "       10,  9,  9, 10,  9, 10,  9,  9,  9,  9,  9,  9,  9, 10,  9,  9,  9,\n",
       "       10, 10,  9,  9,  9,  9,  9, 10,  9, 10,  9,  9,  9,  9, 10,  9,  9,\n",
       "        9,  9, 10,  9, 10, 10,  9, 10,  9,  9, 10,  9,  9, 10,  9, 10,  9,\n",
       "        9, 10, 10,  9,  9, 10, 10, 10,  9,  9, 10,  9,  9,  9,  9, 10,  9,\n",
       "        9, 10,  9,  9, 10,  9,  9,  9, 10, 10,  9,  9,  9, 10, 10,  9, 10,\n",
       "        9,  9, 10,  9, 10,  9, 10,  9, 10,  9, 10, 10, 10,  9, 10, 10,  9,\n",
       "       10, 10,  9,  9,  9,  9,  9,  9,  9, 10,  9,  9, 10,  9,  9,  9, 10,\n",
       "        9,  9,  9, 10, 10, 10,  9,  9,  9, 10,  9,  9, 10, 10, 10, 10,  9,\n",
       "        9,  9, 10, 10, 10,  9, 10,  9, 10,  9, 10, 10, 10, 10,  9,  9, 10,\n",
       "        9,  9,  9,  9,  9, 10,  9, 10, 10,  9,  9, 10,  9, 10,  9,  9,  9,\n",
       "        9,  9,  9, 10,  9,  9, 10,  9,  9, 10, 10,  9,  9, 10, 10,  9, 10,\n",
       "       10,  9,  9,  9, 10, 10, 10,  9,  9, 10,  9,  9,  9,  9,  9,  9, 10,\n",
       "        9,  9,  9, 10,  9,  9, 10, 10, 10, 10,  9,  9, 10, 10,  9, 10, 10,\n",
       "       10,  9, 10,  9,  9, 10, 10])"
      ]
     },
     "execution_count": 12,
     "metadata": {},
     "output_type": "execute_result"
    }
   ],
   "source": [
    "topics_id"
   ]
  },
  {
   "cell_type": "code",
   "execution_count": 140,
   "metadata": {},
   "outputs": [],
   "source": [
    "doc_id_test = \"NCT00112632\""
   ]
  },
  {
   "cell_type": "code",
   "execution_count": 125,
   "metadata": {
    "scrolled": true
   },
   "outputs": [
    {
     "data": {
      "text/plain": [
       "array(['NCT01970696', 'NCT00769782', 'NCT01110668', 'NCT02576080',\n",
       "       'NCT01970696', 'NCT01970696', 'NCT00507273', 'NCT02576080',\n",
       "       'NCT00112632', 'NCT00500188', 'NCT00500188', 'NCT01970696',\n",
       "       'NCT02576080', 'NCT00507273', 'NCT02576080', 'NCT00103168',\n",
       "       'NCT02576080', 'NCT02776878', 'NCT02576080', 'NCT00457743',\n",
       "       'NCT00954655', 'NCT02576080', 'NCT02576080', 'NCT01970696',\n",
       "       'NCT01874665', 'NCT00278876', 'NCT02576080', 'NCT00507273',\n",
       "       'NCT00954655', 'NCT00457743', 'NCT01874665', 'NCT00278876',\n",
       "       'NCT02576080', 'NCT02606097', 'NCT00112632', 'NCT00685828',\n",
       "       'NCT01970696', 'NCT02576080', 'NCT01970696', 'NCT00500188',\n",
       "       'NCT02336724', 'NCT00278876', 'NCT00507273', 'NCT02576080',\n",
       "       'NCT00500188', 'NCT01970696', 'NCT00954655', 'NCT00685828',\n",
       "       'NCT01970696', 'NCT02931981', 'NCT01970696', 'NCT02576080',\n",
       "       'NCT00278876', 'NCT02576080', 'NCT00507273', 'NCT02576080',\n",
       "       'NCT02576080', 'NCT02336724', 'NCT00500188', 'NCT02576080',\n",
       "       'NCT01970696', 'NCT01028222', 'NCT00103168', 'NCT00112632',\n",
       "       'NCT01970696', 'NCT00769782', 'NCT00507273', 'NCT02931981',\n",
       "       'NCT00769782', 'NCT01970696', 'NCT01970696', 'NCT02336724',\n",
       "       'NCT01110668', 'NCT00103168', 'NCT00103168', 'NCT02606097',\n",
       "       'NCT00500188', 'NCT01970696', 'NCT01970696', 'NCT00278876',\n",
       "       'NCT00500188', 'NCT00278876', 'NCT01970696', 'NCT02576080',\n",
       "       'NCT00457743', 'NCT02776878', 'NCT02576080', 'NCT00500188',\n",
       "       'NCT02576080', 'NCT02336724', 'NCT02576080', 'NCT02576080',\n",
       "       'NCT01970696', 'NCT00112632', 'NCT01028222', 'NCT02576080',\n",
       "       'NCT00103168', 'NCT02606097', 'NCT00500188', 'NCT02576080'],\n",
       "      dtype='<U11')"
      ]
     },
     "execution_count": 125,
     "metadata": {},
     "output_type": "execute_result"
    }
   ],
   "source": [
    "doc_id"
   ]
  },
  {
   "cell_type": "code",
   "execution_count": 120,
   "metadata": {},
   "outputs": [],
   "source": [
    "import numpy as np\n",
    "from collections import defaultdict\n",
    "\n",
    "def softmax(y_pred):\n",
    "    y_max = np.max(y_pred, axis=1, keepdims=True)\n",
    "\n",
    "    y_norm = y_pred - y_max\n",
    "    return np.exp(y_norm)/np.sum(np.exp(y_norm), axis=1, keepdims=True)\n",
    "\n",
    "def pool(pred_arr, topics_eval_arr, doc_id_eval_arr, pool_func=max):\n",
    "    y_probs = softmax(pred_arr)\n",
    "    y_logits = y_probs[:, 1]\n",
    "\n",
    "    dict_y = defaultdict(list)\n",
    "    dict_topic = defaultdict(int)\n",
    "    \n",
    "    for y, top, doc in zip(y_logits, topics_eval_arr, doc_id_eval_arr):\n",
    "        dict_y[doc].append(y)\n",
    "    #     dict_y[doc] = max(dict_y[doc], y)\n",
    "        dict_topic[doc] = top\n",
    "        \n",
    "    assert dict_y.keys() == dict_topic.keys()\n",
    "\n",
    "    reg_pred_pooled = []\n",
    "    topics_id_pooled = []\n",
    "    doc_id_pooled = []\n",
    "\n",
    "    for k in dict_y.keys():\n",
    "        doc_id_pooled.append(k)\n",
    "        reg_pred_pooled.append(pool_func(dict_y[k]))\n",
    "        topics_id_pooled.append(dict_topic[k])\n",
    "        \n",
    "    return doc_id_pooled, topics_id_pooled, reg_pred_pooled"
   ]
  },
  {
   "cell_type": "code",
   "execution_count": 121,
   "metadata": {},
   "outputs": [
    {
     "data": {
      "text/plain": [
       "(['NCT01970696',\n",
       "  'NCT00769782',\n",
       "  'NCT01110668',\n",
       "  'NCT02576080',\n",
       "  'NCT00507273',\n",
       "  'NCT00112632',\n",
       "  'NCT00500188',\n",
       "  'NCT00103168',\n",
       "  'NCT02776878',\n",
       "  'NCT00457743',\n",
       "  'NCT00954655',\n",
       "  'NCT01874665',\n",
       "  'NCT00278876',\n",
       "  'NCT02606097',\n",
       "  'NCT00685828',\n",
       "  'NCT02336724',\n",
       "  'NCT02931981',\n",
       "  'NCT01028222'],\n",
       " [9, 9, 9, 9, 9, 9, 9, 9, 9, 9, 9, 9, 9, 9, 9, 9, 9, 9],\n",
       " [0.7543163,\n",
       "  0.7688382,\n",
       "  0.71365803,\n",
       "  0.7616607,\n",
       "  0.69012654,\n",
       "  0.75919855,\n",
       "  0.7202015,\n",
       "  0.75849843,\n",
       "  0.69941634,\n",
       "  0.7326614,\n",
       "  0.7380424,\n",
       "  0.7525378,\n",
       "  0.7221952,\n",
       "  0.6832619,\n",
       "  0.74945486,\n",
       "  0.7721589,\n",
       "  0.7744627,\n",
       "  0.7664504])"
      ]
     },
     "execution_count": 121,
     "metadata": {},
     "output_type": "execute_result"
    }
   ],
   "source": [
    "pool(pred_arr, topics_id, doc_id, pool_func=max)"
   ]
  },
  {
   "cell_type": "code",
   "execution_count": 64,
   "metadata": {},
   "outputs": [
    {
     "data": {
      "text/plain": [
       "array([0.6860049 , 0.21482395, 0.6929103 , 0.72800463, 0.25210243,\n",
       "       0.74144435, 0.6914381 , 0.20664051, 0.3599593 , 0.7580189 ,\n",
       "       0.64439857, 0.7535769 , 0.73707116, 0.6214963 , 0.72103554,\n",
       "       0.25979286, 0.76617956, 0.35539418, 0.7449551 , 0.7331062 ,\n",
       "       0.7433449 , 0.73464924, 0.5196218 , 0.73131764, 0.3711793 ,\n",
       "       0.78040487, 0.29600766, 0.713917  , 0.6086964 , 0.58029574,\n",
       "       0.4393941 , 0.69983584, 0.76012355, 0.7736882 , 0.7604168 ,\n",
       "       0.68675697, 0.26201504, 0.7397841 , 0.26510096, 0.7093974 ,\n",
       "       0.6084481 , 0.73652095, 0.6915614 , 0.5598929 , 0.6964478 ,\n",
       "       0.47069928, 0.72691417, 0.63378584, 0.7470343 , 0.56665665,\n",
       "       0.30160254, 0.6992863 , 0.7409297 , 0.7371106 , 0.38604957,\n",
       "       0.7656258 , 0.6384754 , 0.19972505, 0.707643  , 0.7290609 ,\n",
       "       0.7331701 , 0.7397586 , 0.66761416, 0.7016448 , 0.3718925 ,\n",
       "       0.4169405 , 0.7348521 , 0.7362602 , 0.67583674, 0.6285177 ,\n",
       "       0.7742613 , 0.73979336, 0.7429048 , 0.6315047 , 0.76405436,\n",
       "       0.66552675, 0.71410567, 0.70647705, 0.6436293 , 0.7179164 ,\n",
       "       0.60522497, 0.7685535 , 0.63079613, 0.64020944, 0.7371857 ,\n",
       "       0.68312424, 0.6247688 , 0.642432  , 0.6388345 , 0.7571944 ,\n",
       "       0.7453977 , 0.6852363 , 0.63783556, 0.74013114, 0.5172832 ,\n",
       "       0.71727896, 0.7763067 , 0.64837074, 0.72761595, 0.7202631 ],\n",
       "      dtype=float32)"
      ]
     },
     "execution_count": 64,
     "metadata": {},
     "output_type": "execute_result"
    }
   ],
   "source": [
    "softmax(pred_arr)[:, 1]"
   ]
  },
  {
   "cell_type": "code",
   "execution_count": 97,
   "metadata": {},
   "outputs": [
    {
     "name": "stdout",
     "output_type": "stream",
     "text": [
      "[0.6860049  0.21482395 0.6929103  0.72800463 0.25210243 0.74144435\n",
      " 0.6914381  0.20664051 0.3599593  0.7580189 ]\n",
      "['a', 'a', 'a', 'a', 'a', 'b', 'b', 'b', 'b', 'b']\n"
     ]
    }
   ],
   "source": [
    "test_y = y_logits[:10]\n",
    "print(test_y)\n",
    "test_doc = [\"a\" for i in range(5)] + [\"b\" for j in range(5)]\n",
    "print(test_doc)"
   ]
  },
  {
   "cell_type": "code",
   "execution_count": 109,
   "metadata": {
    "scrolled": true
   },
   "outputs": [],
   "source": [
    "\n",
    "\n",
    "dict_y = defaultdict(list)\n",
    "dict_topic = defaultdict(int)\n",
    "\n",
    "y_logits = softmax(pred_arr)[:, 1]\n",
    "\n",
    "for y, top, doc in zip(test_y, topics_id, test_doc):\n",
    "    dict_y[doc].append(y)\n",
    "#     dict_y[doc] = max(dict_y[doc], y)\n",
    "    dict_topic[doc] = top"
   ]
  },
  {
   "cell_type": "code",
   "execution_count": 110,
   "metadata": {},
   "outputs": [
    {
     "data": {
      "text/plain": [
       "defaultdict(list,\n",
       "            {'a': [0.6860049, 0.21482395, 0.6929103, 0.72800463, 0.25210243],\n",
       "             'b': [0.74144435, 0.6914381, 0.20664051, 0.3599593, 0.7580189]})"
      ]
     },
     "execution_count": 110,
     "metadata": {},
     "output_type": "execute_result"
    }
   ],
   "source": [
    "dict_y"
   ]
  },
  {
   "cell_type": "code",
   "execution_count": 111,
   "metadata": {},
   "outputs": [
    {
     "data": {
      "text/plain": [
       "defaultdict(int, {'a': 9, 'b': 9})"
      ]
     },
     "execution_count": 111,
     "metadata": {},
     "output_type": "execute_result"
    }
   ],
   "source": [
    "dict_topic"
   ]
  },
  {
   "cell_type": "code",
   "execution_count": 112,
   "metadata": {},
   "outputs": [],
   "source": [
    "assert dict_y.keys() == dict_topic.keys()\n",
    "\n",
    "reg_pred_pooled = []\n",
    "topics_id_pooled = []\n",
    "doc_id_pooled = []\n",
    "\n",
    "for k in dict_y.keys():\n",
    "    doc_id_pooled.append(k)\n",
    "    reg_pred_pooled.append(max(dict_y[k]))\n",
    "    topics_id_pooled.append(dict_topic[k])"
   ]
  },
  {
   "cell_type": "code",
   "execution_count": 113,
   "metadata": {},
   "outputs": [
    {
     "name": "stdout",
     "output_type": "stream",
     "text": [
      "[0.72800463, 0.7580189]\n",
      "[9, 9]\n",
      "['a', 'b']\n"
     ]
    }
   ],
   "source": [
    "print(reg_pred_pooled)\n",
    "print(topics_id_pooled)\n",
    "print(doc_id_pooled)"
   ]
  },
  {
   "cell_type": "code",
   "execution_count": 44,
   "metadata": {
    "scrolled": true
   },
   "outputs": [
    {
     "data": {
      "text/plain": [
       "array([[-0.20712236,  0.57438487],\n",
       "       [ 0.5905098 , -0.70557946],\n",
       "       [-0.10716864,  0.70659214],\n",
       "       [-0.17395064,  0.81057155],\n",
       "       [ 0.56638336, -0.52104723],\n",
       "       [-0.18735686,  0.86613226],\n",
       "       [-0.20150203,  0.6053491 ],\n",
       "       [ 0.62010986, -0.72518593],\n",
       "       [ 0.3149576 , -0.26058316],\n",
       "       [-0.20358774,  0.938261  ],\n",
       "       [-0.06486064,  0.52964646],\n",
       "       [-0.22949019,  0.8882906 ],\n",
       "       [-0.2015392 ,  0.8292618 ],\n",
       "       [ 0.01364675,  0.5095508 ],\n",
       "       [-0.16607301,  0.783531  ],\n",
       "       [ 0.37155414, -0.67549133],\n",
       "       [-0.19298437,  0.99387854],\n",
       "       [ 0.33315885, -0.2622525 ],\n",
       "       [-0.18953887,  0.8823457 ],\n",
       "       [-0.25498202,  0.75545776],\n",
       "       [-0.22706097,  0.836366  ],\n",
       "       [-0.24012128,  0.77821934],\n",
       "       [ 0.0585477 ,  0.13707517],\n",
       "       [-0.24820416,  0.7531136 ],\n",
       "       [ 0.30365503, -0.22350577],\n",
       "       [-0.23777398,  1.0302534 ],\n",
       "       [ 0.42597854, -0.44040364],\n",
       "       [-0.22712466,  0.68736005],\n",
       "       [-0.07097526,  0.3708605 ],\n",
       "       [ 0.1655459 ,  0.48953342],\n",
       "       [ 0.14907221, -0.09454918],\n",
       "       [-0.11901104,  0.7275052 ],\n",
       "       [-0.22932509,  0.92403173],\n",
       "       [-0.25471956,  0.97453535],\n",
       "       [-0.24265096,  0.91231495],\n",
       "       [-0.12650156,  0.6584996 ],\n",
       "       [ 0.44409823, -0.59142315],\n",
       "       [-0.21223393,  0.8326127 ],\n",
       "       [ 0.42976484, -0.58985764],\n",
       "       [-0.19879824,  0.6936609 ],\n",
       "       [-0.02626625,  0.41452727],\n",
       "       [-0.21915162,  0.808812  ],\n",
       "       [-0.154464  ,  0.65296507],\n",
       "       [ 0.06984585,  0.3105733 ],\n",
       "       [-0.23433104,  0.59610844],\n",
       "       [ 0.03436271, -0.08297461],\n",
       "       [-0.15386382,  0.82515854],\n",
       "       [-0.07936169,  0.46913096],\n",
       "       [-0.24164242,  0.841215  ],\n",
       "       [-0.04538882,  0.22283426],\n",
       "       [ 0.31004173, -0.5296367 ],\n",
       "       [-0.16965578,  0.6742456 ],\n",
       "       [-0.25065133,  0.80015516],\n",
       "       [-0.24861348,  0.7823914 ],\n",
       "       [ 0.3481353 , -0.11581306],\n",
       "       [-0.24002576,  0.9437485 ],\n",
       "       [-0.1670942 ,  0.40165907],\n",
       "       [ 0.5756601 , -0.8123536 ],\n",
       "       [-0.19546577,  0.6884984 ],\n",
       "       [-0.1732942 ,  0.816569  ],\n",
       "       [-0.19019672,  0.8205695 ],\n",
       "       [-0.18863867,  0.8560754 ],\n",
       "       [-0.11738393,  0.58003   ],\n",
       "       [-0.11967304,  0.73546934],\n",
       "       [ 0.4304451 , -0.09366138],\n",
       "       [ 0.36597475,  0.03062917],\n",
       "       [-0.14964196,  0.86973923],\n",
       "       [-0.20455572,  0.8220644 ],\n",
       "       [-0.12106735,  0.6136369 ],\n",
       "       [-0.02347328,  0.5023895 ],\n",
       "       [-0.23591891,  0.99661237],\n",
       "       [-0.17336054,  0.8715343 ],\n",
       "       [-0.23185769,  0.8292636 ],\n",
       "       [-0.13177758,  0.40689984],\n",
       "       [-0.23226818,  0.9427694 ],\n",
       "       [-0.13552527,  0.5524965 ],\n",
       "       [-0.14716029,  0.7682483 ],\n",
       "       [-0.20695601,  0.67137885],\n",
       "       [ 0.0235461 ,  0.6146976 ],\n",
       "       [-0.24051335,  0.6936365 ],\n",
       "       [-0.05712488,  0.37015915],\n",
       "       [-0.25506118,  0.9451003 ],\n",
       "       [-0.18716162,  0.34847197],\n",
       "       [-0.05217929,  0.52409416],\n",
       "       [-0.2056231 ,  0.8257691 ],\n",
       "       [-0.19158489,  0.5765821 ],\n",
       "       [-0.0183637 ,  0.49147546],\n",
       "       [-0.05912071,  0.52681446],\n",
       "       [-0.10437591,  0.4659331 ],\n",
       "       [-0.27589893,  0.8614602 ],\n",
       "       [-0.22121733,  0.8529978 ],\n",
       "       [-0.18128641,  0.59665525],\n",
       "       [-0.10045773,  0.46552444],\n",
       "       [-0.21516404,  0.83148617],\n",
       "       [ 0.05992715,  0.12908751],\n",
       "       [-0.21691324,  0.7140907 ],\n",
       "       [-0.24879779,  0.995474  ],\n",
       "       [-0.08158368,  0.5303018 ],\n",
       "       [-0.16730385,  0.8152565 ],\n",
       "       [-0.19941379,  0.7463535 ]], dtype=float32)"
      ]
     },
     "execution_count": 44,
     "metadata": {},
     "output_type": "execute_result"
    }
   ],
   "source": [
    "reg_pred_arr"
   ]
  },
  {
   "cell_type": "code",
   "execution_count": 24,
   "metadata": {},
   "outputs": [
    {
     "data": {
      "text/plain": [
       "'12'"
      ]
     },
     "execution_count": 24,
     "metadata": {},
     "output_type": "execute_result"
    }
   ],
   "source": [
    "x = pd.read_pickle(\"../debug_data/self_attribs.pickle\")\n",
    "x[1050]"
   ]
  },
  {
   "cell_type": "code",
   "execution_count": null,
   "metadata": {},
   "outputs": [],
   "source": []
  }
 ],
 "metadata": {
  "kernelspec": {
   "display_name": "local-venv",
   "language": "python",
   "name": "local-venv"
  },
  "language_info": {
   "codemirror_mode": {
    "name": "ipython",
    "version": 3
   },
   "file_extension": ".py",
   "mimetype": "text/x-python",
   "name": "python",
   "nbconvert_exporter": "python",
   "pygments_lexer": "ipython3",
   "version": "3.7.4"
  }
 },
 "nbformat": 4,
 "nbformat_minor": 2
}
